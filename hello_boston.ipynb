{
 "cells": [
  {
   "cell_type": "markdown",
   "metadata": {},
   "source": [
    "[colaboratoryで開く  ](https://colab.research.google.com/github/tenajima/hello_machine_learning/blob/master/hello_boston.ipynb)"
   ]
  },
  {
   "cell_type": "markdown",
   "metadata": {},
   "source": [
    "-------------------------"
   ]
  },
  {
   "cell_type": "code",
   "execution_count": null,
   "metadata": {
    "ExecuteTime": {
     "end_time": "2019-02-20T06:11:18.183263Z",
     "start_time": "2019-02-20T06:11:03.913550Z"
    }
   },
   "outputs": [],
   "source": [
    "# リッチな見た目のグラフライブラリ\n",
    "import gc\n",
    "\n",
    "import numpy as np\n",
    "import seaborn as sns"
   ]
  },
  {
   "cell_type": "code",
   "execution_count": null,
   "metadata": {
    "ExecuteTime": {
     "end_time": "2019-02-20T06:11:18.189406Z",
     "start_time": "2019-02-20T06:11:18.185772Z"
    }
   },
   "outputs": [],
   "source": [
    "# gcを使えるようにする.\n",
    "gc.enable()\n",
    "# del hoge\n",
    "# gc.collect() で使える\n",
    "\n",
    "# グラフの見た目をいい感じにする\n",
    "sns.set()"
   ]
  },
  {
   "cell_type": "markdown",
   "metadata": {},
   "source": [
    "# 住宅価格の予想でこんにちは"
   ]
  },
  {
   "cell_type": "markdown",
   "metadata": {},
   "source": [
    "## データのダウンロード"
   ]
  },
  {
   "cell_type": "code",
   "execution_count": null,
   "metadata": {
    "ExecuteTime": {
     "end_time": "2019-02-20T06:11:19.112012Z",
     "start_time": "2019-02-20T06:11:18.191746Z"
    }
   },
   "outputs": [],
   "source": [
    "from sklearn.datasets import load_boston"
   ]
  },
  {
   "cell_type": "markdown",
   "metadata": {},
   "source": [
    "なにこれって関数の中身とか知りたいときは..."
   ]
  },
  {
   "cell_type": "code",
   "execution_count": null,
   "metadata": {
    "ExecuteTime": {
     "end_time": "2019-02-20T06:11:19.180807Z",
     "start_time": "2019-02-20T06:11:19.115836Z"
    }
   },
   "outputs": [],
   "source": [
    "load_boston?"
   ]
  },
  {
   "cell_type": "code",
   "execution_count": null,
   "metadata": {
    "ExecuteTime": {
     "end_time": "2019-02-20T06:11:19.229840Z",
     "start_time": "2019-02-20T06:11:19.184601Z"
    }
   },
   "outputs": [],
   "source": [
    "boston = load_boston()"
   ]
  },
  {
   "cell_type": "markdown",
   "metadata": {},
   "source": [
    "## 特徴量の確認"
   ]
  },
  {
   "cell_type": "code",
   "execution_count": null,
   "metadata": {
    "ExecuteTime": {
     "end_time": "2019-02-20T06:11:19.239319Z",
     "start_time": "2019-02-20T06:11:19.231903Z"
    }
   },
   "outputs": [],
   "source": [
    "boston.data"
   ]
  },
  {
   "cell_type": "markdown",
   "metadata": {},
   "source": [
    "## 正解ラベルの確認"
   ]
  },
  {
   "cell_type": "code",
   "execution_count": null,
   "metadata": {
    "ExecuteTime": {
     "end_time": "2019-02-20T06:11:19.251046Z",
     "start_time": "2019-02-20T06:11:19.241624Z"
    },
    "scrolled": true
   },
   "outputs": [],
   "source": [
    "boston.target"
   ]
  },
  {
   "cell_type": "code",
   "execution_count": null,
   "metadata": {
    "ExecuteTime": {
     "end_time": "2019-02-20T06:11:19.258003Z",
     "start_time": "2019-02-20T06:11:19.253333Z"
    }
   },
   "outputs": [],
   "source": [
    "boston.feature_names"
   ]
  },
  {
   "cell_type": "markdown",
   "metadata": {},
   "source": [
    "詳しくはこちら(https://scikit-learn.org/stable/datasets/index.html#boston-dataset)  \n",
    "日本語ではこちら(https://pythondatascience.plavox.info/scikit-learn/scikit-learn%E3%81%AB%E4%BB%98%E5%B1%9E%E3%81%97%E3%81%A6%E3%81%84%E3%82%8B%E3%83%87%E3%83%BC%E3%82%BF%E3%82%BB%E3%83%83%E3%83%88)"
   ]
  },
  {
   "cell_type": "markdown",
   "metadata": {},
   "source": [
    "# pandasを使って見やすくデータ分析をする"
   ]
  },
  {
   "cell_type": "code",
   "execution_count": null,
   "metadata": {
    "ExecuteTime": {
     "end_time": "2019-02-20T06:11:19.265031Z",
     "start_time": "2019-02-20T06:11:19.261902Z"
    }
   },
   "outputs": [],
   "source": [
    "import pandas as pd"
   ]
  },
  {
   "cell_type": "code",
   "execution_count": null,
   "metadata": {
    "ExecuteTime": {
     "end_time": "2019-02-20T06:11:19.272213Z",
     "start_time": "2019-02-20T06:11:19.267617Z"
    },
    "scrolled": true
   },
   "outputs": [],
   "source": [
    "df = pd.DataFrame(boston.data, columns=boston.feature_names)"
   ]
  },
  {
   "cell_type": "markdown",
   "metadata": {},
   "source": [
    "## いろいろできます"
   ]
  },
  {
   "cell_type": "markdown",
   "metadata": {},
   "source": [
    "### 相関係数"
   ]
  },
  {
   "cell_type": "code",
   "execution_count": null,
   "metadata": {
    "ExecuteTime": {
     "end_time": "2019-02-20T06:11:19.528835Z",
     "start_time": "2019-02-20T06:11:19.274189Z"
    }
   },
   "outputs": [],
   "source": [
    "df.corr()"
   ]
  },
  {
   "cell_type": "markdown",
   "metadata": {},
   "source": [
    "### AGEが50以上のデータ抽出"
   ]
  },
  {
   "cell_type": "code",
   "execution_count": null,
   "metadata": {
    "ExecuteTime": {
     "end_time": "2019-02-20T06:11:19.610159Z",
     "start_time": "2019-02-20T06:11:19.530845Z"
    },
    "scrolled": true
   },
   "outputs": [],
   "source": [
    "df.query('AGE > 50')"
   ]
  },
  {
   "cell_type": "markdown",
   "metadata": {},
   "source": [
    "### 欠損値の確認"
   ]
  },
  {
   "cell_type": "code",
   "execution_count": null,
   "metadata": {
    "ExecuteTime": {
     "end_time": "2019-02-20T06:11:19.622777Z",
     "start_time": "2019-02-20T06:11:19.612009Z"
    }
   },
   "outputs": [],
   "source": [
    "# このデータに欠損値はない\n",
    "df.isna().sum() / df.shape[0]"
   ]
  },
  {
   "cell_type": "markdown",
   "metadata": {},
   "source": [
    "# 学習するための準備"
   ]
  },
  {
   "cell_type": "markdown",
   "metadata": {},
   "source": [
    "予測するためのデータについて考えます.  \n",
    "- boston.dataには学習するための情報(boston.data)と答え(boston.target)がある.\n",
    "- 実際に必要なのは未知データに対しての予測値.\n",
    "- データを学習する部分と,モデルの性能を評価する部分に分ける必要がある."
   ]
  },
  {
   "cell_type": "code",
   "execution_count": null,
   "metadata": {
    "ExecuteTime": {
     "end_time": "2019-02-20T06:11:19.790290Z",
     "start_time": "2019-02-20T06:11:19.624388Z"
    }
   },
   "outputs": [],
   "source": [
    "from sklearn.model_selection import train_test_split"
   ]
  },
  {
   "cell_type": "code",
   "execution_count": null,
   "metadata": {
    "ExecuteTime": {
     "end_time": "2019-02-20T06:11:19.797205Z",
     "start_time": "2019-02-20T06:11:19.792701Z"
    }
   },
   "outputs": [],
   "source": [
    "# もとのデータの形\n",
    "boston.data.shape"
   ]
  },
  {
   "cell_type": "code",
   "execution_count": null,
   "metadata": {
    "ExecuteTime": {
     "end_time": "2019-02-20T06:11:19.802881Z",
     "start_time": "2019-02-20T06:11:19.799273Z"
    }
   },
   "outputs": [],
   "source": [
    "train_X, test_X, train_y, test_y = train_test_split(boston.data, boston.target, test_size=0.3, random_state=42)"
   ]
  },
  {
   "cell_type": "code",
   "execution_count": null,
   "metadata": {
    "ExecuteTime": {
     "end_time": "2019-02-20T06:11:19.810070Z",
     "start_time": "2019-02-20T06:11:19.805199Z"
    }
   },
   "outputs": [],
   "source": [
    "# 学習用のデータの形\n",
    "train_X.shape"
   ]
  },
  {
   "cell_type": "code",
   "execution_count": null,
   "metadata": {
    "ExecuteTime": {
     "end_time": "2019-02-20T06:11:19.819656Z",
     "start_time": "2019-02-20T06:11:19.815868Z"
    }
   },
   "outputs": [],
   "source": [
    "# test用のデータの形\n",
    "test_X.shape"
   ]
  },
  {
   "cell_type": "markdown",
   "metadata": {},
   "source": [
    "# 線形回帰"
   ]
  },
  {
   "cell_type": "markdown",
   "metadata": {},
   "source": [
    " $y = w_0 + w_1x_1 + w_2x_2 + \\cdots + w_nx_n$"
   ]
  },
  {
   "cell_type": "code",
   "execution_count": null,
   "metadata": {
    "ExecuteTime": {
     "end_time": "2019-02-20T06:11:19.839111Z",
     "start_time": "2019-02-20T06:11:19.822995Z"
    }
   },
   "outputs": [],
   "source": [
    "#x1, x2などは各列(特徴量)の値です.\n",
    "df.head(1)"
   ]
  },
  {
   "cell_type": "markdown",
   "metadata": {},
   "source": [
    "学習するのは$w_i$の部分です."
   ]
  },
  {
   "cell_type": "code",
   "execution_count": null,
   "metadata": {
    "ExecuteTime": {
     "end_time": "2019-02-20T06:11:20.387098Z",
     "start_time": "2019-02-20T06:11:19.841141Z"
    }
   },
   "outputs": [],
   "source": [
    "from sklearn.linear_model import LinearRegression"
   ]
  },
  {
   "cell_type": "markdown",
   "metadata": {},
   "source": [
    "scikit-learnのAPIの流れは,\n",
    "1. モデルのインスタンスの作成\n",
    "1. fitメソッドで学習\n",
    "1. predictメソッドで予測\n",
    "\n",
    "です."
   ]
  },
  {
   "cell_type": "code",
   "execution_count": null,
   "metadata": {
    "ExecuteTime": {
     "end_time": "2019-02-20T06:11:20.392422Z",
     "start_time": "2019-02-20T06:11:20.390182Z"
    }
   },
   "outputs": [],
   "source": [
    "# モデルのインスタンスを作成\n",
    "model = LinearRegression()"
   ]
  },
  {
   "cell_type": "code",
   "execution_count": null,
   "metadata": {
    "ExecuteTime": {
     "end_time": "2019-02-20T06:11:20.403647Z",
     "start_time": "2019-02-20T06:11:20.394687Z"
    }
   },
   "outputs": [],
   "source": [
    "# 学習\n",
    "model.fit(train_X, train_y)"
   ]
  },
  {
   "cell_type": "code",
   "execution_count": null,
   "metadata": {
    "ExecuteTime": {
     "end_time": "2019-02-20T06:11:20.409121Z",
     "start_time": "2019-02-20T06:11:20.405941Z"
    }
   },
   "outputs": [],
   "source": [
    "# 予測\n",
    "predict = model.predict(test_X)"
   ]
  },
  {
   "cell_type": "markdown",
   "metadata": {},
   "source": [
    "## モデルの精度検証"
   ]
  },
  {
   "cell_type": "code",
   "execution_count": null,
   "metadata": {
    "ExecuteTime": {
     "end_time": "2019-02-20T06:11:20.415232Z",
     "start_time": "2019-02-20T06:11:20.412248Z"
    }
   },
   "outputs": [],
   "source": [
    "from sklearn.metrics import mean_squared_error"
   ]
  },
  {
   "cell_type": "code",
   "execution_count": null,
   "metadata": {
    "ExecuteTime": {
     "end_time": "2019-02-20T06:11:20.422370Z",
     "start_time": "2019-02-20T06:11:20.417396Z"
    }
   },
   "outputs": [],
   "source": [
    "mean_squared_error(test_y, predict) ** 0.5"
   ]
  },
  {
   "cell_type": "markdown",
   "metadata": {},
   "source": [
    "4638ドルのズレ☆"
   ]
  },
  {
   "cell_type": "markdown",
   "metadata": {},
   "source": [
    "## 重みの可視化"
   ]
  },
  {
   "cell_type": "markdown",
   "metadata": {
    "ExecuteTime": {
     "end_time": "2019-02-05T09:27:49.966424Z",
     "start_time": "2019-02-05T09:27:49.962477Z"
    }
   },
   "source": [
    "重み$w_i$がどの様になっているか可視化します.  \n",
    "重みの絶対値が大きいほど影響が大きいと言えます."
   ]
  },
  {
   "cell_type": "code",
   "execution_count": null,
   "metadata": {
    "ExecuteTime": {
     "end_time": "2019-02-20T06:11:20.427316Z",
     "start_time": "2019-02-20T06:11:20.424338Z"
    }
   },
   "outputs": [],
   "source": [
    "import matplotlib.pyplot as plt"
   ]
  },
  {
   "cell_type": "code",
   "execution_count": null,
   "metadata": {
    "ExecuteTime": {
     "end_time": "2019-02-20T06:11:20.433659Z",
     "start_time": "2019-02-20T06:11:20.429980Z"
    }
   },
   "outputs": [],
   "source": [
    "def plot_weight(model):\n",
    "    fig, ax = plt.subplots(figsize=(16, 8))\n",
    "    x = list(range(model.coef_.size))\n",
    "    y = model.coef_\n",
    "    ax.bar(x, y)\n",
    "    ax.set_xticklabels(boston.feature_names) \n",
    "    "
   ]
  },
  {
   "cell_type": "markdown",
   "metadata": {},
   "source": [
    "figやらaxやらについて詳しく知りたい人向け(https://qiita.com/skotaro/items/08dc0b8c5704c94eafb9)"
   ]
  },
  {
   "cell_type": "code",
   "execution_count": null,
   "metadata": {
    "ExecuteTime": {
     "end_time": "2019-02-20T06:11:20.787397Z",
     "start_time": "2019-02-20T06:11:20.435819Z"
    }
   },
   "outputs": [],
   "source": [
    "plot_weight(model)"
   ]
  },
  {
   "cell_type": "markdown",
   "metadata": {},
   "source": [
    "# データのスケールを合わせる "
   ]
  },
  {
   "cell_type": "code",
   "execution_count": null,
   "metadata": {
    "ExecuteTime": {
     "end_time": "2019-02-20T06:11:21.172217Z",
     "start_time": "2019-02-20T06:11:20.790172Z"
    }
   },
   "outputs": [],
   "source": [
    "df.median().plot.bar(figsize=(16, 8))"
   ]
  },
  {
   "cell_type": "markdown",
   "metadata": {},
   "source": [
    "## データの標準化"
   ]
  },
  {
   "cell_type": "markdown",
   "metadata": {},
   "source": [
    "特徴量の平均値を$\\mu$,標準偏差を$\\sigma$として,標準化された値zは,  \n",
    "$z = \\frac{x - \\mu}{\\sigma}$  \n",
    "と表される."
   ]
  },
  {
   "cell_type": "code",
   "execution_count": null,
   "metadata": {
    "ExecuteTime": {
     "end_time": "2019-02-20T06:11:21.178018Z",
     "start_time": "2019-02-20T06:11:21.174957Z"
    }
   },
   "outputs": [],
   "source": [
    "from sklearn.preprocessing import StandardScaler"
   ]
  },
  {
   "cell_type": "code",
   "execution_count": null,
   "metadata": {
    "ExecuteTime": {
     "end_time": "2019-02-20T06:11:21.185516Z",
     "start_time": "2019-02-20T06:11:21.180391Z"
    }
   },
   "outputs": [],
   "source": [
    "transformer = StandardScaler()"
   ]
  },
  {
   "cell_type": "code",
   "execution_count": null,
   "metadata": {
    "ExecuteTime": {
     "end_time": "2019-02-20T06:11:21.190862Z",
     "start_time": "2019-02-20T06:11:21.187185Z"
    }
   },
   "outputs": [],
   "source": [
    "train_X_norm = transformer.fit_transform(train_X)"
   ]
  },
  {
   "cell_type": "code",
   "execution_count": null,
   "metadata": {
    "ExecuteTime": {
     "end_time": "2019-02-20T06:11:21.195281Z",
     "start_time": "2019-02-20T06:11:21.192442Z"
    }
   },
   "outputs": [],
   "source": [
    "test_X_norm = transformer.transform(test_X)"
   ]
  },
  {
   "cell_type": "code",
   "execution_count": null,
   "metadata": {
    "ExecuteTime": {
     "end_time": "2019-02-20T06:11:21.201482Z",
     "start_time": "2019-02-20T06:11:21.197642Z"
    }
   },
   "outputs": [],
   "source": [
    "model = LinearRegression()\n",
    "model.fit(train_X_norm, train_y)\n",
    "predict = model.predict(test_X_norm)"
   ]
  },
  {
   "cell_type": "code",
   "execution_count": null,
   "metadata": {
    "ExecuteTime": {
     "end_time": "2019-02-20T06:11:21.209620Z",
     "start_time": "2019-02-20T06:11:21.203994Z"
    }
   },
   "outputs": [],
   "source": [
    "mean_squared_error(test_y, predict) ** 0.5"
   ]
  },
  {
   "cell_type": "code",
   "execution_count": null,
   "metadata": {
    "ExecuteTime": {
     "end_time": "2019-02-20T06:11:21.542104Z",
     "start_time": "2019-02-20T06:11:21.212115Z"
    }
   },
   "outputs": [],
   "source": [
    "plot_weight(model)"
   ]
  },
  {
   "cell_type": "code",
   "execution_count": null,
   "metadata": {
    "ExecuteTime": {
     "end_time": "2019-02-20T06:11:21.595083Z",
     "start_time": "2019-02-20T06:11:21.544593Z"
    }
   },
   "outputs": [],
   "source": [
    "del model, transformer\n",
    "gc.collect()"
   ]
  },
  {
   "cell_type": "markdown",
   "metadata": {},
   "source": [
    "## データの正規化"
   ]
  },
  {
   "cell_type": "code",
   "execution_count": null,
   "metadata": {
    "ExecuteTime": {
     "end_time": "2019-02-20T06:11:21.600615Z",
     "start_time": "2019-02-20T06:11:21.597577Z"
    }
   },
   "outputs": [],
   "source": [
    "from sklearn.preprocessing import Normalizer"
   ]
  },
  {
   "cell_type": "markdown",
   "metadata": {},
   "source": [
    "正規化された値$z$は,特徴量ベクトルのノルムを$L$として  \n",
    "$z = \\frac{z}{L}$  \n",
    "と表される."
   ]
  },
  {
   "cell_type": "code",
   "execution_count": null,
   "metadata": {
    "ExecuteTime": {
     "end_time": "2019-02-20T06:11:21.611183Z",
     "start_time": "2019-02-20T06:11:21.603938Z"
    }
   },
   "outputs": [],
   "source": [
    "X = [[4, 1, 2, 2],\n",
    "     [1, 3, 9, 3],\n",
    "     [5, 7, 5, 1]]\n",
    "transformer = Normalizer().fit(X) # fit does nothing.\n",
    "transformer.transform(X)"
   ]
  },
  {
   "cell_type": "code",
   "execution_count": null,
   "metadata": {
    "ExecuteTime": {
     "end_time": "2019-02-20T06:11:21.619445Z",
     "start_time": "2019-02-20T06:11:21.614034Z"
    }
   },
   "outputs": [],
   "source": [
    "np.linalg.norm(X, axis=1)"
   ]
  },
  {
   "cell_type": "code",
   "execution_count": null,
   "metadata": {
    "ExecuteTime": {
     "end_time": "2019-02-20T06:11:21.628897Z",
     "start_time": "2019-02-20T06:11:21.622033Z"
    }
   },
   "outputs": [],
   "source": [
    "np.linalg.norm(transformer.transform(X), axis=1)"
   ]
  },
  {
   "cell_type": "markdown",
   "metadata": {},
   "source": [
    "-------------"
   ]
  },
  {
   "cell_type": "code",
   "execution_count": null,
   "metadata": {
    "ExecuteTime": {
     "end_time": "2019-02-20T06:11:21.635400Z",
     "start_time": "2019-02-20T06:11:21.631729Z"
    }
   },
   "outputs": [],
   "source": [
    "transformer = Normalizer()"
   ]
  },
  {
   "cell_type": "code",
   "execution_count": null,
   "metadata": {
    "ExecuteTime": {
     "end_time": "2019-02-20T06:11:21.642189Z",
     "start_time": "2019-02-20T06:11:21.638592Z"
    }
   },
   "outputs": [],
   "source": [
    "train_X_norm = transformer.fit_transform(train_X)"
   ]
  },
  {
   "cell_type": "code",
   "execution_count": null,
   "metadata": {
    "ExecuteTime": {
     "end_time": "2019-02-20T06:11:21.648121Z",
     "start_time": "2019-02-20T06:11:21.644238Z"
    }
   },
   "outputs": [],
   "source": [
    "test_X_norm = transformer.transform(test_X)"
   ]
  },
  {
   "cell_type": "code",
   "execution_count": null,
   "metadata": {
    "ExecuteTime": {
     "end_time": "2019-02-20T06:11:21.655308Z",
     "start_time": "2019-02-20T06:11:21.650655Z"
    }
   },
   "outputs": [],
   "source": [
    "model = LinearRegression()\n",
    "model.fit(train_X_norm, train_y)\n",
    "predict = model.predict(test_X_norm)"
   ]
  },
  {
   "cell_type": "code",
   "execution_count": null,
   "metadata": {
    "ExecuteTime": {
     "end_time": "2019-02-20T06:11:21.665222Z",
     "start_time": "2019-02-20T06:11:21.658054Z"
    }
   },
   "outputs": [],
   "source": [
    "mean_squared_error(test_y, predict) ** 0.5"
   ]
  },
  {
   "cell_type": "code",
   "execution_count": null,
   "metadata": {
    "ExecuteTime": {
     "end_time": "2019-02-20T06:11:22.009519Z",
     "start_time": "2019-02-20T06:11:21.667474Z"
    }
   },
   "outputs": [],
   "source": [
    "plot_weight(model)"
   ]
  },
  {
   "cell_type": "code",
   "execution_count": null,
   "metadata": {
    "ExecuteTime": {
     "end_time": "2019-02-20T06:11:22.055371Z",
     "start_time": "2019-02-20T06:11:22.011418Z"
    }
   },
   "outputs": [],
   "source": [
    "del model, transformer\n",
    "gc.collect()"
   ]
  },
  {
   "cell_type": "markdown",
   "metadata": {},
   "source": [
    "## 同じことを何回もするの大変なのでこれ以降はPipeLine化する"
   ]
  },
  {
   "cell_type": "code",
   "execution_count": null,
   "metadata": {
    "ExecuteTime": {
     "end_time": "2019-02-20T06:11:22.067568Z",
     "start_time": "2019-02-20T06:11:22.058290Z"
    }
   },
   "outputs": [],
   "source": [
    "from sklearn.pipeline import make_pipeline"
   ]
  },
  {
   "cell_type": "code",
   "execution_count": null,
   "metadata": {
    "ExecuteTime": {
     "end_time": "2019-02-20T06:11:22.073138Z",
     "start_time": "2019-02-20T06:11:22.069952Z"
    }
   },
   "outputs": [],
   "source": [
    "pl = make_pipeline(Normalizer(), LinearRegression())"
   ]
  },
  {
   "cell_type": "code",
   "execution_count": null,
   "metadata": {
    "ExecuteTime": {
     "end_time": "2019-02-20T06:11:22.083607Z",
     "start_time": "2019-02-20T06:11:22.075412Z"
    }
   },
   "outputs": [],
   "source": [
    "pl.fit(train_X, train_y)\n",
    "predict_linear = pl.predict(test_X)\n",
    "mean_squared_error(test_y, predict_linear) ** 0.5"
   ]
  },
  {
   "cell_type": "markdown",
   "metadata": {},
   "source": [
    "# 正則化項をいれる"
   ]
  },
  {
   "cell_type": "code",
   "execution_count": null,
   "metadata": {
    "ExecuteTime": {
     "end_time": "2019-02-20T06:11:22.089178Z",
     "start_time": "2019-02-20T06:11:22.085719Z"
    }
   },
   "outputs": [],
   "source": [
    "from sklearn.linear_model import Ridge, Lasso"
   ]
  },
  {
   "cell_type": "markdown",
   "metadata": {},
   "source": [
    "## 正則化項とは?\n",
    "- 重みが大きくなりすぎて過学習に陥るのを防ぐ\n",
    "- 相関があるデータに対してパラメータを推定できるようにするための制約条件\n",
    "\n",
    "式にすると,今最小化したい関数を$Q({\\bf w})$とすると,  \n",
    "$ R({\\bf w}) = Q({\\bf w}) + {\\alpha}\\sum|w|^q$  \n",
    "$ R({\\bf w})$を最小化する問題になる."
   ]
  },
  {
   "cell_type": "markdown",
   "metadata": {},
   "source": [
    "## Lasso"
   ]
  },
  {
   "cell_type": "markdown",
   "metadata": {},
   "source": [
    "正則化項における$q=1$の正則化項を加える.  "
   ]
  },
  {
   "cell_type": "code",
   "execution_count": null,
   "metadata": {
    "ExecuteTime": {
     "end_time": "2019-02-20T06:12:24.307434Z",
     "start_time": "2019-02-20T06:12:24.299847Z"
    }
   },
   "outputs": [],
   "source": [
    "pl = make_pipeline(Normalizer(), Lasso(alpha=1e-4))\n",
    "pl.fit(train_X, train_y)\n",
    "predict_lasso = pl.predict(test_X)\n",
    "mean_squared_error(test_y, predict_lasso) ** 0.5"
   ]
  },
  {
   "cell_type": "code",
   "execution_count": null,
   "metadata": {
    "ExecuteTime": {
     "end_time": "2019-02-20T06:12:26.353932Z",
     "start_time": "2019-02-20T06:12:26.032087Z"
    }
   },
   "outputs": [],
   "source": [
    "plot_weight(pl.named_steps['lasso'])"
   ]
  },
  {
   "cell_type": "markdown",
   "metadata": {},
   "source": [
    "## Ridge"
   ]
  },
  {
   "cell_type": "markdown",
   "metadata": {},
   "source": [
    "正則化項における$q=2$の正則化項を加える.  "
   ]
  },
  {
   "cell_type": "code",
   "execution_count": null,
   "metadata": {
    "ExecuteTime": {
     "end_time": "2019-02-20T06:14:59.478336Z",
     "start_time": "2019-02-20T06:14:59.470132Z"
    }
   },
   "outputs": [],
   "source": [
    "pl = make_pipeline(Normalizer(), Ridge(alpha=1))\n",
    "pl.fit(train_X, train_y)\n",
    "predict_ridge = pl.predict(test_X)\n",
    "mean_squared_error(test_y, predict_ridge) ** 0.5"
   ]
  },
  {
   "cell_type": "code",
   "execution_count": null,
   "metadata": {
    "ExecuteTime": {
     "end_time": "2019-02-20T06:15:00.330728Z",
     "start_time": "2019-02-20T06:14:59.933081Z"
    }
   },
   "outputs": [],
   "source": [
    "plot_weight(pl.named_steps['ridge'])"
   ]
  },
  {
   "cell_type": "markdown",
   "metadata": {},
   "source": [
    "# まとめ"
   ]
  },
  {
   "cell_type": "markdown",
   "metadata": {
    "ExecuteTime": {
     "end_time": "2019-02-12T08:57:41.876353Z",
     "start_time": "2019-02-12T08:57:41.858794Z"
    }
   },
   "source": [
    "- まずはどんなデータかを理解する\n",
    "- 機械にデータを理解させるための前処理をする\n",
    "- 良さげな特徴量をつくる\n",
    "- 過学習と学習不足に気を配る"
   ]
  },
  {
   "cell_type": "markdown",
   "metadata": {},
   "source": [
    "# Appendix"
   ]
  },
  {
   "cell_type": "markdown",
   "metadata": {},
   "source": [
    "最近流行りのlightGBMという強いモデルを扱ってるライブラリでも試してみる"
   ]
  },
  {
   "cell_type": "code",
   "execution_count": null,
   "metadata": {
    "ExecuteTime": {
     "end_time": "2019-02-20T06:46:00.546188Z",
     "start_time": "2019-02-20T06:46:00.543477Z"
    }
   },
   "outputs": [],
   "source": [
    "from lightgbm import LGBMRegressor\n",
    "from sklearn.model_selection import KFold"
   ]
  },
  {
   "cell_type": "code",
   "execution_count": null,
   "metadata": {
    "ExecuteTime": {
     "end_time": "2019-02-20T06:46:01.031471Z",
     "start_time": "2019-02-20T06:46:01.026604Z"
    }
   },
   "outputs": [],
   "source": [
    "train_X.shape"
   ]
  },
  {
   "cell_type": "code",
   "execution_count": null,
   "metadata": {
    "ExecuteTime": {
     "end_time": "2019-02-20T06:46:01.470788Z",
     "start_time": "2019-02-20T06:46:01.468126Z"
    }
   },
   "outputs": [],
   "source": [
    "kfold = KFold(n_splits=5, shuffle=True, random_state=81)"
   ]
  },
  {
   "cell_type": "code",
   "execution_count": null,
   "metadata": {
    "ExecuteTime": {
     "end_time": "2019-02-20T06:46:01.901859Z",
     "start_time": "2019-02-20T06:46:01.898422Z"
    }
   },
   "outputs": [],
   "source": [
    "params = {\n",
    "    'n_estimators': 10000,\n",
    "    'seed': 81,\n",
    "    'metric': 'rmse',\n",
    "    'num_leaves': 8,\n",
    "    'min_data_in_leaf': 15,\n",
    "    'max_depth': 7,\n",
    "}"
   ]
  },
  {
   "cell_type": "code",
   "execution_count": null,
   "metadata": {
    "ExecuteTime": {
     "end_time": "2019-02-20T06:46:03.237077Z",
     "start_time": "2019-02-20T06:46:02.415578Z"
    },
    "scrolled": true
   },
   "outputs": [],
   "source": [
    "preds = np.zeros(test_X.shape[0])\n",
    "for n_fold, (train_idx, valid_idx) in enumerate(kfold.split(train_X)):\n",
    "    trn_x, trn_y = train_X[train_idx], train_y[train_idx]\n",
    "    val_x, val_y = train_X[valid_idx], train_y[valid_idx]\n",
    "    \n",
    "    model = LGBMRegressor(**params)\n",
    "    model.fit(\n",
    "        trn_x, trn_y,\n",
    "        eval_set=[(trn_x, trn_y), (val_x, val_y)],\n",
    "        early_stopping_rounds=200,\n",
    "        verbose=100\n",
    "    )\n",
    "    preds += model.predict(test_X) / kfold.get_n_splits()"
   ]
  },
  {
   "cell_type": "code",
   "execution_count": null,
   "metadata": {
    "ExecuteTime": {
     "end_time": "2019-02-20T06:46:04.684866Z",
     "start_time": "2019-02-20T06:46:04.680840Z"
    }
   },
   "outputs": [],
   "source": [
    "mean_squared_error(test_y, preds)**0.5"
   ]
  },
  {
   "cell_type": "code",
   "execution_count": null,
   "metadata": {},
   "outputs": [],
   "source": []
  }
 ],
 "metadata": {
  "kernelspec": {
   "display_name": "Python 3",
   "language": "python",
   "name": "python3"
  },
  "language_info": {
   "codemirror_mode": {
    "name": "ipython",
    "version": 3
   },
   "file_extension": ".py",
   "mimetype": "text/x-python",
   "name": "python",
   "nbconvert_exporter": "python",
   "pygments_lexer": "ipython3",
   "version": "3.6.7"
  },
  "toc": {
   "base_numbering": 1,
   "nav_menu": {},
   "number_sections": true,
   "sideBar": true,
   "skip_h1_title": false,
   "title_cell": "Table of Contents",
   "title_sidebar": "Contents",
   "toc_cell": false,
   "toc_position": {},
   "toc_section_display": true,
   "toc_window_display": true
  }
 },
 "nbformat": 4,
 "nbformat_minor": 2
}
