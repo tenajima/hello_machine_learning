{
 "cells": [
  {
   "cell_type": "markdown",
   "metadata": {},
   "source": [
    "[colaboratoryで開く  ](https://colab.research.google.com/github/tenajima/hello_machine_learning/blob/master/hello_boston.ipynb)"
   ]
  },
  {
   "cell_type": "markdown",
   "metadata": {},
   "source": [
    "-------------------------"
   ]
  },
  {
   "cell_type": "code",
   "execution_count": null,
   "metadata": {
    "ExecuteTime": {
     "end_time": "2019-02-13T05:32:54.135549Z",
     "start_time": "2019-02-13T05:32:38.232124Z"
    }
   },
   "outputs": [],
   "source": [
    "# リッチな見た目のグラフライブラリ\n",
    "import seaborn as sns\n",
    "import gc"
   ]
  },
  {
   "cell_type": "code",
   "execution_count": null,
   "metadata": {
    "ExecuteTime": {
     "end_time": "2019-02-13T05:32:54.142055Z",
     "start_time": "2019-02-13T05:32:54.138039Z"
    }
   },
   "outputs": [],
   "source": [
    "# gcを使えるようにする.\n",
    "gc.enable()\n",
    "# del hoge\n",
    "# gc.collect() で使える\n",
    "\n",
    "# グラフの見た目をいい感じにする\n",
    "sns.set()"
   ]
  },
  {
   "cell_type": "markdown",
   "metadata": {},
   "source": [
    "# 住宅価格の予想でこんにちは"
   ]
  },
  {
   "cell_type": "markdown",
   "metadata": {},
   "source": [
    "## データのダウンロード"
   ]
  },
  {
   "cell_type": "code",
   "execution_count": null,
   "metadata": {
    "ExecuteTime": {
     "end_time": "2019-02-13T05:32:55.812644Z",
     "start_time": "2019-02-13T05:32:54.144434Z"
    }
   },
   "outputs": [],
   "source": [
    "from sklearn.datasets import load_boston"
   ]
  },
  {
   "cell_type": "markdown",
   "metadata": {},
   "source": [
    "なにこれって関数の中身とか知りたいときは..."
   ]
  },
  {
   "cell_type": "code",
   "execution_count": null,
   "metadata": {
    "ExecuteTime": {
     "end_time": "2019-02-13T05:32:55.886639Z",
     "start_time": "2019-02-13T05:32:55.816465Z"
    }
   },
   "outputs": [],
   "source": [
    "load_boston?"
   ]
  },
  {
   "cell_type": "code",
   "execution_count": null,
   "metadata": {
    "ExecuteTime": {
     "end_time": "2019-02-13T05:32:55.959987Z",
     "start_time": "2019-02-13T05:32:55.890139Z"
    }
   },
   "outputs": [],
   "source": [
    "boston = load_boston()"
   ]
  },
  {
   "cell_type": "markdown",
   "metadata": {},
   "source": [
    "## 特徴量の確認"
   ]
  },
  {
   "cell_type": "code",
   "execution_count": null,
   "metadata": {
    "ExecuteTime": {
     "end_time": "2019-02-13T05:32:55.969474Z",
     "start_time": "2019-02-13T05:32:55.961978Z"
    }
   },
   "outputs": [],
   "source": [
    "boston.data"
   ]
  },
  {
   "cell_type": "markdown",
   "metadata": {},
   "source": [
    "## 答えの確認"
   ]
  },
  {
   "cell_type": "code",
   "execution_count": null,
   "metadata": {
    "ExecuteTime": {
     "end_time": "2019-02-13T05:32:55.982010Z",
     "start_time": "2019-02-13T05:32:55.972272Z"
    },
    "scrolled": true
   },
   "outputs": [],
   "source": [
    "boston.target"
   ]
  },
  {
   "cell_type": "code",
   "execution_count": null,
   "metadata": {
    "ExecuteTime": {
     "end_time": "2019-02-13T05:32:55.990193Z",
     "start_time": "2019-02-13T05:32:55.984344Z"
    }
   },
   "outputs": [],
   "source": [
    "boston.feature_names"
   ]
  },
  {
   "cell_type": "markdown",
   "metadata": {},
   "source": [
    "詳しくはこちら(https://scikit-learn.org/stable/datasets/index.html#boston-dataset)  \n",
    "日本語ではこちら(https://pythondatascience.plavox.info/scikit-learn/scikit-learn%E3%81%AB%E4%BB%98%E5%B1%9E%E3%81%97%E3%81%A6%E3%81%84%E3%82%8B%E3%83%87%E3%83%BC%E3%82%BF%E3%82%BB%E3%83%83%E3%83%88)"
   ]
  },
  {
   "cell_type": "markdown",
   "metadata": {},
   "source": [
    "# pandasを使って見やすくデータ分析をする"
   ]
  },
  {
   "cell_type": "code",
   "execution_count": null,
   "metadata": {
    "ExecuteTime": {
     "end_time": "2019-02-13T05:32:55.994844Z",
     "start_time": "2019-02-13T05:32:55.992345Z"
    }
   },
   "outputs": [],
   "source": [
    "import pandas as pd"
   ]
  },
  {
   "cell_type": "code",
   "execution_count": null,
   "metadata": {
    "ExecuteTime": {
     "end_time": "2019-02-13T05:32:56.002876Z",
     "start_time": "2019-02-13T05:32:55.997448Z"
    },
    "scrolled": true
   },
   "outputs": [],
   "source": [
    "df = pd.DataFrame(boston.data, columns=boston.feature_names)"
   ]
  },
  {
   "cell_type": "markdown",
   "metadata": {},
   "source": [
    "## いろいろできます"
   ]
  },
  {
   "cell_type": "markdown",
   "metadata": {},
   "source": [
    "### 相関係数"
   ]
  },
  {
   "cell_type": "code",
   "execution_count": null,
   "metadata": {
    "ExecuteTime": {
     "end_time": "2019-02-13T05:32:56.050438Z",
     "start_time": "2019-02-13T05:32:56.005697Z"
    }
   },
   "outputs": [],
   "source": [
    "df.corr()"
   ]
  },
  {
   "cell_type": "markdown",
   "metadata": {},
   "source": [
    "### AGEが50以上のデータ抽出"
   ]
  },
  {
   "cell_type": "code",
   "execution_count": null,
   "metadata": {
    "ExecuteTime": {
     "end_time": "2019-02-13T05:32:56.134263Z",
     "start_time": "2019-02-13T05:32:56.053627Z"
    },
    "scrolled": true
   },
   "outputs": [],
   "source": [
    "df.query('AGE > 50')"
   ]
  },
  {
   "cell_type": "markdown",
   "metadata": {},
   "source": [
    "### 欠損値の確認"
   ]
  },
  {
   "cell_type": "code",
   "execution_count": null,
   "metadata": {
    "ExecuteTime": {
     "end_time": "2019-02-13T05:32:56.153597Z",
     "start_time": "2019-02-13T05:32:56.137096Z"
    }
   },
   "outputs": [],
   "source": [
    "# このデータに欠損値はない\n",
    "df.isna().sum() / df.shape[0]"
   ]
  },
  {
   "cell_type": "markdown",
   "metadata": {},
   "source": [
    "# 学習するための準備"
   ]
  },
  {
   "cell_type": "markdown",
   "metadata": {},
   "source": [
    "予測するためのデータについて考えます.  \n",
    "- boston.dataには学習するための情報(boston.data)と答え(boston.target)がある.\n",
    "- 実際に必要なのは未知データに対しての予測値.\n",
    "- データを学習する部分と,モデルの性能を評価する部分に分ける必要がある."
   ]
  },
  {
   "cell_type": "code",
   "execution_count": null,
   "metadata": {
    "ExecuteTime": {
     "end_time": "2019-02-13T05:32:56.418080Z",
     "start_time": "2019-02-13T05:32:56.156163Z"
    }
   },
   "outputs": [],
   "source": [
    "from sklearn.model_selection import train_test_split"
   ]
  },
  {
   "cell_type": "code",
   "execution_count": null,
   "metadata": {
    "ExecuteTime": {
     "end_time": "2019-02-13T05:32:56.424950Z",
     "start_time": "2019-02-13T05:32:56.419965Z"
    }
   },
   "outputs": [],
   "source": [
    "# もとのデータの形\n",
    "boston.data.shape"
   ]
  },
  {
   "cell_type": "code",
   "execution_count": null,
   "metadata": {
    "ExecuteTime": {
     "end_time": "2019-02-13T05:32:56.431300Z",
     "start_time": "2019-02-13T05:32:56.427090Z"
    }
   },
   "outputs": [],
   "source": [
    "train_X, test_X, train_y, test_y = train_test_split(boston.data, boston.target, test_size=0.3, random_state=42)"
   ]
  },
  {
   "cell_type": "code",
   "execution_count": null,
   "metadata": {
    "ExecuteTime": {
     "end_time": "2019-02-13T05:32:56.441636Z",
     "start_time": "2019-02-13T05:32:56.435749Z"
    }
   },
   "outputs": [],
   "source": [
    "# 学習用のデータの形\n",
    "train_X.shape"
   ]
  },
  {
   "cell_type": "code",
   "execution_count": null,
   "metadata": {
    "ExecuteTime": {
     "end_time": "2019-02-13T05:32:56.454707Z",
     "start_time": "2019-02-13T05:32:56.448581Z"
    }
   },
   "outputs": [],
   "source": [
    "# test用のデータの形\n",
    "test_X.shape"
   ]
  },
  {
   "cell_type": "markdown",
   "metadata": {},
   "source": [
    "# 線形回帰"
   ]
  },
  {
   "cell_type": "markdown",
   "metadata": {},
   "source": [
    " $y = w_0 + w_1x_1 + w_2x_2 + \\cdots + w_nx_n$"
   ]
  },
  {
   "cell_type": "code",
   "execution_count": null,
   "metadata": {
    "ExecuteTime": {
     "end_time": "2019-02-13T05:32:56.483327Z",
     "start_time": "2019-02-13T05:32:56.459556Z"
    }
   },
   "outputs": [],
   "source": [
    "#x1, x2などは各列(特徴量)の値です.\n",
    "df.head(1)"
   ]
  },
  {
   "cell_type": "markdown",
   "metadata": {},
   "source": [
    "学習するのは$w_i$の部分です."
   ]
  },
  {
   "cell_type": "code",
   "execution_count": null,
   "metadata": {
    "ExecuteTime": {
     "end_time": "2019-02-13T05:32:57.635787Z",
     "start_time": "2019-02-13T05:32:56.486105Z"
    }
   },
   "outputs": [],
   "source": [
    "from sklearn.linear_model import LinearRegression"
   ]
  },
  {
   "cell_type": "markdown",
   "metadata": {},
   "source": [
    "scikit-learnのAPIの流れは,\n",
    "1. モデルのインスタンスの作成\n",
    "1. fitメソッドで学習\n",
    "1. predictメソッドで予測\n",
    "\n",
    "です."
   ]
  },
  {
   "cell_type": "code",
   "execution_count": null,
   "metadata": {
    "ExecuteTime": {
     "end_time": "2019-02-13T05:32:57.640345Z",
     "start_time": "2019-02-13T05:32:57.637884Z"
    }
   },
   "outputs": [],
   "source": [
    "# モデルのインスタンスを作成\n",
    "model = LinearRegression()"
   ]
  },
  {
   "cell_type": "code",
   "execution_count": null,
   "metadata": {
    "ExecuteTime": {
     "end_time": "2019-02-13T05:32:57.654767Z",
     "start_time": "2019-02-13T05:32:57.643363Z"
    }
   },
   "outputs": [],
   "source": [
    "# 学習\n",
    "model.fit(train_X, train_y)"
   ]
  },
  {
   "cell_type": "code",
   "execution_count": null,
   "metadata": {
    "ExecuteTime": {
     "end_time": "2019-02-13T05:32:57.660219Z",
     "start_time": "2019-02-13T05:32:57.657237Z"
    }
   },
   "outputs": [],
   "source": [
    "# 予測\n",
    "predict = model.predict(test_X)"
   ]
  },
  {
   "cell_type": "markdown",
   "metadata": {},
   "source": [
    "## モデルの精度検証"
   ]
  },
  {
   "cell_type": "code",
   "execution_count": null,
   "metadata": {
    "ExecuteTime": {
     "end_time": "2019-02-13T05:32:57.666516Z",
     "start_time": "2019-02-13T05:32:57.663221Z"
    }
   },
   "outputs": [],
   "source": [
    "from sklearn.metrics import mean_squared_error"
   ]
  },
  {
   "cell_type": "code",
   "execution_count": null,
   "metadata": {
    "ExecuteTime": {
     "end_time": "2019-02-13T05:32:57.675073Z",
     "start_time": "2019-02-13T05:32:57.670283Z"
    }
   },
   "outputs": [],
   "source": [
    "mean_squared_error(test_y, predict) ** 0.5"
   ]
  },
  {
   "cell_type": "markdown",
   "metadata": {},
   "source": [
    "4638ドルのズレ☆"
   ]
  },
  {
   "cell_type": "markdown",
   "metadata": {},
   "source": [
    "## 重みの可視化"
   ]
  },
  {
   "cell_type": "markdown",
   "metadata": {
    "ExecuteTime": {
     "end_time": "2019-02-05T09:27:49.966424Z",
     "start_time": "2019-02-05T09:27:49.962477Z"
    }
   },
   "source": [
    "重み$w_i$がどの様になっているか可視化する"
   ]
  },
  {
   "cell_type": "code",
   "execution_count": null,
   "metadata": {
    "ExecuteTime": {
     "end_time": "2019-02-13T05:32:57.680298Z",
     "start_time": "2019-02-13T05:32:57.677360Z"
    }
   },
   "outputs": [],
   "source": [
    "import matplotlib.pyplot as plt"
   ]
  },
  {
   "cell_type": "code",
   "execution_count": null,
   "metadata": {
    "ExecuteTime": {
     "end_time": "2019-02-13T05:32:57.688703Z",
     "start_time": "2019-02-13T05:32:57.683430Z"
    }
   },
   "outputs": [],
   "source": [
    "def plot_weight(model):\n",
    "    fig, ax = plt.subplots(figsize=(16, 8))\n",
    "    x = list(range(model.coef_.size))\n",
    "    y = model.coef_\n",
    "    ax.bar(x, y)\n",
    "    ax.set_xticklabels(boston.feature_names) \n",
    "    "
   ]
  },
  {
   "cell_type": "markdown",
   "metadata": {},
   "source": [
    "figやらaxやらについて詳しく知りたい人向け(https://qiita.com/skotaro/items/08dc0b8c5704c94eafb9)"
   ]
  },
  {
   "cell_type": "code",
   "execution_count": null,
   "metadata": {
    "ExecuteTime": {
     "end_time": "2019-02-13T05:32:58.060976Z",
     "start_time": "2019-02-13T05:32:57.692464Z"
    }
   },
   "outputs": [],
   "source": [
    "plot_weight(model)"
   ]
  },
  {
   "cell_type": "markdown",
   "metadata": {},
   "source": [
    "# データのスケールを合わせる "
   ]
  },
  {
   "cell_type": "code",
   "execution_count": null,
   "metadata": {
    "ExecuteTime": {
     "end_time": "2019-02-13T05:32:58.474327Z",
     "start_time": "2019-02-13T05:32:58.063477Z"
    }
   },
   "outputs": [],
   "source": [
    "df.median().plot.bar(figsize=(16, 8))"
   ]
  },
  {
   "cell_type": "markdown",
   "metadata": {},
   "source": [
    "## データの標準化"
   ]
  },
  {
   "cell_type": "code",
   "execution_count": null,
   "metadata": {
    "ExecuteTime": {
     "end_time": "2019-02-13T05:32:58.479638Z",
     "start_time": "2019-02-13T05:32:58.476231Z"
    }
   },
   "outputs": [],
   "source": [
    "from sklearn.preprocessing import StandardScaler"
   ]
  },
  {
   "cell_type": "code",
   "execution_count": null,
   "metadata": {
    "ExecuteTime": {
     "end_time": "2019-02-13T05:32:58.488401Z",
     "start_time": "2019-02-13T05:32:58.481920Z"
    }
   },
   "outputs": [],
   "source": [
    "transformer = StandardScaler()"
   ]
  },
  {
   "cell_type": "code",
   "execution_count": null,
   "metadata": {
    "ExecuteTime": {
     "end_time": "2019-02-13T05:32:58.494437Z",
     "start_time": "2019-02-13T05:32:58.490104Z"
    }
   },
   "outputs": [],
   "source": [
    "train_X_norm = transformer.fit_transform(train_X)"
   ]
  },
  {
   "cell_type": "code",
   "execution_count": null,
   "metadata": {
    "ExecuteTime": {
     "end_time": "2019-02-13T05:32:58.501767Z",
     "start_time": "2019-02-13T05:32:58.497812Z"
    }
   },
   "outputs": [],
   "source": [
    "test_X_norm = transformer.transform(test_X)"
   ]
  },
  {
   "cell_type": "code",
   "execution_count": null,
   "metadata": {
    "ExecuteTime": {
     "end_time": "2019-02-13T05:32:58.509680Z",
     "start_time": "2019-02-13T05:32:58.504484Z"
    }
   },
   "outputs": [],
   "source": [
    "model = LinearRegression()\n",
    "model.fit(train_X_norm, train_y)\n",
    "predict = model.predict(test_X_norm)"
   ]
  },
  {
   "cell_type": "code",
   "execution_count": null,
   "metadata": {
    "ExecuteTime": {
     "end_time": "2019-02-13T05:32:58.516099Z",
     "start_time": "2019-02-13T05:32:58.511918Z"
    }
   },
   "outputs": [],
   "source": [
    "mean_squared_error(test_y, predict) ** 0.5"
   ]
  },
  {
   "cell_type": "code",
   "execution_count": null,
   "metadata": {
    "ExecuteTime": {
     "end_time": "2019-02-13T05:32:58.879392Z",
     "start_time": "2019-02-13T05:32:58.519020Z"
    }
   },
   "outputs": [],
   "source": [
    "plot_weight(model)"
   ]
  },
  {
   "cell_type": "code",
   "execution_count": null,
   "metadata": {
    "ExecuteTime": {
     "end_time": "2019-02-13T05:32:58.930608Z",
     "start_time": "2019-02-13T05:32:58.881255Z"
    }
   },
   "outputs": [],
   "source": [
    "del model, transformer\n",
    "gc.collect()"
   ]
  },
  {
   "cell_type": "markdown",
   "metadata": {},
   "source": [
    "## データの正規化"
   ]
  },
  {
   "cell_type": "code",
   "execution_count": null,
   "metadata": {
    "ExecuteTime": {
     "end_time": "2019-02-13T05:32:58.936911Z",
     "start_time": "2019-02-13T05:32:58.933984Z"
    }
   },
   "outputs": [],
   "source": [
    "from sklearn.preprocessing import Normalizer"
   ]
  },
  {
   "cell_type": "code",
   "execution_count": null,
   "metadata": {
    "ExecuteTime": {
     "end_time": "2019-02-13T05:32:58.942993Z",
     "start_time": "2019-02-13T05:32:58.939622Z"
    }
   },
   "outputs": [],
   "source": [
    "transformer = Normalizer()"
   ]
  },
  {
   "cell_type": "code",
   "execution_count": null,
   "metadata": {
    "ExecuteTime": {
     "end_time": "2019-02-13T05:32:58.949503Z",
     "start_time": "2019-02-13T05:32:58.945390Z"
    }
   },
   "outputs": [],
   "source": [
    "train_X_norm = transformer.fit_transform(train_X)"
   ]
  },
  {
   "cell_type": "code",
   "execution_count": null,
   "metadata": {
    "ExecuteTime": {
     "end_time": "2019-02-13T05:32:58.955465Z",
     "start_time": "2019-02-13T05:32:58.952160Z"
    }
   },
   "outputs": [],
   "source": [
    "test_X_norm = transformer.transform(test_X)"
   ]
  },
  {
   "cell_type": "code",
   "execution_count": null,
   "metadata": {
    "ExecuteTime": {
     "end_time": "2019-02-13T05:32:58.964067Z",
     "start_time": "2019-02-13T05:32:58.958600Z"
    }
   },
   "outputs": [],
   "source": [
    "model = LinearRegression()\n",
    "model.fit(train_X_norm, train_y)\n",
    "predict = model.predict(test_X_norm)"
   ]
  },
  {
   "cell_type": "code",
   "execution_count": null,
   "metadata": {
    "ExecuteTime": {
     "end_time": "2019-02-13T05:32:58.972281Z",
     "start_time": "2019-02-13T05:32:58.966857Z"
    }
   },
   "outputs": [],
   "source": [
    "mean_squared_error(test_y, predict) ** 0.5"
   ]
  },
  {
   "cell_type": "code",
   "execution_count": null,
   "metadata": {
    "ExecuteTime": {
     "end_time": "2019-02-13T05:32:59.309298Z",
     "start_time": "2019-02-13T05:32:58.974894Z"
    }
   },
   "outputs": [],
   "source": [
    "plot_weight(model)"
   ]
  },
  {
   "cell_type": "code",
   "execution_count": null,
   "metadata": {
    "ExecuteTime": {
     "end_time": "2019-02-13T05:32:59.352874Z",
     "start_time": "2019-02-13T05:32:59.311231Z"
    }
   },
   "outputs": [],
   "source": [
    "del model, transformer\n",
    "gc.collect()"
   ]
  },
  {
   "cell_type": "markdown",
   "metadata": {},
   "source": [
    "## 同じことを何回もするの大変なのでこれ以降はPipeLine化する"
   ]
  },
  {
   "cell_type": "code",
   "execution_count": null,
   "metadata": {
    "ExecuteTime": {
     "end_time": "2019-02-13T05:32:59.368793Z",
     "start_time": "2019-02-13T05:32:59.356662Z"
    }
   },
   "outputs": [],
   "source": [
    "from sklearn.pipeline import make_pipeline"
   ]
  },
  {
   "cell_type": "code",
   "execution_count": null,
   "metadata": {
    "ExecuteTime": {
     "end_time": "2019-02-13T05:32:59.374235Z",
     "start_time": "2019-02-13T05:32:59.371208Z"
    }
   },
   "outputs": [],
   "source": [
    "pl = make_pipeline(Normalizer(), LinearRegression())"
   ]
  },
  {
   "cell_type": "code",
   "execution_count": null,
   "metadata": {
    "ExecuteTime": {
     "end_time": "2019-02-13T05:32:59.386415Z",
     "start_time": "2019-02-13T05:32:59.376635Z"
    }
   },
   "outputs": [],
   "source": [
    "pl.fit(train_X, train_y)\n",
    "predict_linear = pl.predict(test_X)\n",
    "mean_squared_error(test_y, predict_linear) ** 0.5"
   ]
  },
  {
   "cell_type": "markdown",
   "metadata": {},
   "source": [
    "# 正則化項をいれる"
   ]
  },
  {
   "cell_type": "code",
   "execution_count": null,
   "metadata": {
    "ExecuteTime": {
     "end_time": "2019-02-13T05:32:59.392182Z",
     "start_time": "2019-02-13T05:32:59.388851Z"
    }
   },
   "outputs": [],
   "source": [
    "from sklearn.linear_model import Ridge, Lasso"
   ]
  },
  {
   "cell_type": "markdown",
   "metadata": {},
   "source": [
    "## Ridge"
   ]
  },
  {
   "cell_type": "code",
   "execution_count": null,
   "metadata": {
    "ExecuteTime": {
     "end_time": "2019-02-13T05:32:59.407891Z",
     "start_time": "2019-02-13T05:32:59.395059Z"
    }
   },
   "outputs": [],
   "source": [
    "pl = make_pipeline(Normalizer(), Ridge(alpha=1e-6))\n",
    "pl.fit(train_X, train_y)\n",
    "predict_ridge = pl.predict(test_X)\n",
    "mean_squared_error(test_y, predict_ridge) ** 0.5"
   ]
  },
  {
   "cell_type": "code",
   "execution_count": null,
   "metadata": {
    "ExecuteTime": {
     "end_time": "2019-02-13T05:32:59.771617Z",
     "start_time": "2019-02-13T05:32:59.410541Z"
    }
   },
   "outputs": [],
   "source": [
    "plot_weight(pl.named_steps['ridge'])"
   ]
  },
  {
   "cell_type": "markdown",
   "metadata": {},
   "source": [
    "## Lasso"
   ]
  },
  {
   "cell_type": "code",
   "execution_count": null,
   "metadata": {
    "ExecuteTime": {
     "end_time": "2019-02-13T05:32:59.783800Z",
     "start_time": "2019-02-13T05:32:59.773537Z"
    }
   },
   "outputs": [],
   "source": [
    "pl = make_pipeline(Normalizer(), Lasso(alpha=1e-6))\n",
    "pl.fit(train_X, train_y)\n",
    "predict_lasso = pl.predict(test_X)\n",
    "mean_squared_error(test_y, predict_lasso) ** 0.5"
   ]
  },
  {
   "cell_type": "code",
   "execution_count": null,
   "metadata": {
    "ExecuteTime": {
     "end_time": "2019-02-13T05:33:00.112887Z",
     "start_time": "2019-02-13T05:32:59.785886Z"
    }
   },
   "outputs": [],
   "source": [
    "plot_weight(pl.named_steps['lasso'])"
   ]
  },
  {
   "cell_type": "markdown",
   "metadata": {},
   "source": [
    "# まとめ"
   ]
  },
  {
   "cell_type": "markdown",
   "metadata": {
    "ExecuteTime": {
     "end_time": "2019-02-12T08:57:41.876353Z",
     "start_time": "2019-02-12T08:57:41.858794Z"
    }
   },
   "source": [
    "- まずはどんなデータかを理解する\n",
    "- 機械にデータを理解させるための前処理をする\n",
    "- 良さげな特徴量をつくる\n",
    "- 過学習と学習不足に気を配る"
   ]
  }
 ],
 "metadata": {
  "kernelspec": {
   "display_name": "Python 3",
   "language": "python",
   "name": "python3"
  },
  "language_info": {
   "codemirror_mode": {
    "name": "ipython",
    "version": 3
   },
   "file_extension": ".py",
   "mimetype": "text/x-python",
   "name": "python",
   "nbconvert_exporter": "python",
   "pygments_lexer": "ipython3",
   "version": "3.6.7"
  },
  "toc": {
   "base_numbering": 1,
   "nav_menu": {},
   "number_sections": true,
   "sideBar": true,
   "skip_h1_title": false,
   "title_cell": "Table of Contents",
   "title_sidebar": "Contents",
   "toc_cell": false,
   "toc_position": {},
   "toc_section_display": true,
   "toc_window_display": true
  }
 },
 "nbformat": 4,
 "nbformat_minor": 2
}
