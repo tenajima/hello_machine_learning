{
 "cells": [
  {
   "cell_type": "code",
   "execution_count": null,
   "metadata": {
    "ExecuteTime": {
     "end_time": "2019-02-05T09:51:19.131833Z",
     "start_time": "2019-02-05T09:51:18.005475Z"
    }
   },
   "outputs": [],
   "source": [
    "# リッチな見た目のグラフライブラリ\n",
    "import seaborn as sns\n",
    "import gc"
   ]
  },
  {
   "cell_type": "code",
   "execution_count": null,
   "metadata": {
    "ExecuteTime": {
     "end_time": "2019-02-05T09:51:19.139294Z",
     "start_time": "2019-02-05T09:51:19.134946Z"
    }
   },
   "outputs": [],
   "source": [
    "# gcを使えるようにする.\n",
    "gc.enable()\n",
    "# del hoge\n",
    "# gc.collect() で使える\n",
    "\n",
    "# グラフの見た目をいい感じにする\n",
    "sns.set()"
   ]
  },
  {
   "cell_type": "markdown",
   "metadata": {},
   "source": [
    "# 住宅価格の予想でこんにちは"
   ]
  },
  {
   "cell_type": "markdown",
   "metadata": {},
   "source": [
    "## データのダウンロード"
   ]
  },
  {
   "cell_type": "code",
   "execution_count": null,
   "metadata": {
    "ExecuteTime": {
     "end_time": "2019-02-05T09:51:19.299852Z",
     "start_time": "2019-02-05T09:51:19.141818Z"
    }
   },
   "outputs": [],
   "source": [
    "from sklearn.datasets import load_boston"
   ]
  },
  {
   "cell_type": "markdown",
   "metadata": {},
   "source": [
    "なにこれって関数の中身とか知りたいときは..."
   ]
  },
  {
   "cell_type": "code",
   "execution_count": null,
   "metadata": {
    "ExecuteTime": {
     "end_time": "2019-02-05T09:51:19.335733Z",
     "start_time": "2019-02-05T09:51:19.304023Z"
    }
   },
   "outputs": [],
   "source": [
    "load_boston?"
   ]
  },
  {
   "cell_type": "code",
   "execution_count": null,
   "metadata": {
    "ExecuteTime": {
     "end_time": "2019-02-05T09:51:19.348044Z",
     "start_time": "2019-02-05T09:51:19.338807Z"
    }
   },
   "outputs": [],
   "source": [
    "boston = load_boston()"
   ]
  },
  {
   "cell_type": "markdown",
   "metadata": {},
   "source": [
    "## 特徴量の確認"
   ]
  },
  {
   "cell_type": "code",
   "execution_count": null,
   "metadata": {
    "ExecuteTime": {
     "end_time": "2019-02-05T09:51:19.356675Z",
     "start_time": "2019-02-05T09:51:19.350248Z"
    }
   },
   "outputs": [],
   "source": [
    "boston.data"
   ]
  },
  {
   "cell_type": "markdown",
   "metadata": {},
   "source": [
    "## 答えの確認"
   ]
  },
  {
   "cell_type": "code",
   "execution_count": null,
   "metadata": {
    "ExecuteTime": {
     "end_time": "2019-02-05T09:51:19.367912Z",
     "start_time": "2019-02-05T09:51:19.358938Z"
    },
    "scrolled": true
   },
   "outputs": [],
   "source": [
    "boston.target"
   ]
  },
  {
   "cell_type": "code",
   "execution_count": null,
   "metadata": {
    "ExecuteTime": {
     "end_time": "2019-02-05T09:51:19.376051Z",
     "start_time": "2019-02-05T09:51:19.370440Z"
    }
   },
   "outputs": [],
   "source": [
    "boston.feature_names"
   ]
  },
  {
   "cell_type": "markdown",
   "metadata": {},
   "source": [
    "詳しくはこちら(https://scikit-learn.org/stable/datasets/index.html#boston-dataset)  \n",
    "日本語ではこちら(https://pythondatascience.plavox.info/scikit-learn/scikit-learn%E3%81%AB%E4%BB%98%E5%B1%9E%E3%81%97%E3%81%A6%E3%81%84%E3%82%8B%E3%83%87%E3%83%BC%E3%82%BF%E3%82%BB%E3%83%83%E3%83%88)"
   ]
  },
  {
   "cell_type": "markdown",
   "metadata": {},
   "source": [
    "# pandasを使って見やすくデータ分析をする"
   ]
  },
  {
   "cell_type": "code",
   "execution_count": null,
   "metadata": {
    "ExecuteTime": {
     "end_time": "2019-02-05T09:51:19.382767Z",
     "start_time": "2019-02-05T09:51:19.378961Z"
    }
   },
   "outputs": [],
   "source": [
    "import pandas as pd"
   ]
  },
  {
   "cell_type": "code",
   "execution_count": null,
   "metadata": {
    "ExecuteTime": {
     "end_time": "2019-02-05T09:51:19.389847Z",
     "start_time": "2019-02-05T09:51:19.385389Z"
    },
    "scrolled": true
   },
   "outputs": [],
   "source": [
    "df = pd.DataFrame(boston.data, columns=boston.feature_names)"
   ]
  },
  {
   "cell_type": "markdown",
   "metadata": {},
   "source": [
    "## いろいろできます"
   ]
  },
  {
   "cell_type": "markdown",
   "metadata": {},
   "source": [
    "### 相関係数"
   ]
  },
  {
   "cell_type": "code",
   "execution_count": null,
   "metadata": {
    "ExecuteTime": {
     "end_time": "2019-02-05T09:51:19.422889Z",
     "start_time": "2019-02-05T09:51:19.392686Z"
    }
   },
   "outputs": [],
   "source": [
    "df.corr()"
   ]
  },
  {
   "cell_type": "markdown",
   "metadata": {},
   "source": [
    "### AGEが50以上のデータ抽出"
   ]
  },
  {
   "cell_type": "code",
   "execution_count": null,
   "metadata": {
    "ExecuteTime": {
     "end_time": "2019-02-05T09:51:19.487132Z",
     "start_time": "2019-02-05T09:51:19.425410Z"
    },
    "scrolled": true
   },
   "outputs": [],
   "source": [
    "df.query('AGE > 50')"
   ]
  },
  {
   "cell_type": "markdown",
   "metadata": {},
   "source": [
    "### 欠損値の確認"
   ]
  },
  {
   "cell_type": "code",
   "execution_count": null,
   "metadata": {
    "ExecuteTime": {
     "end_time": "2019-02-05T09:51:19.501164Z",
     "start_time": "2019-02-05T09:51:19.490185Z"
    }
   },
   "outputs": [],
   "source": [
    "# このデータに欠損値はない\n",
    "df.isna().sum() / df.shape[0]"
   ]
  },
  {
   "cell_type": "markdown",
   "metadata": {},
   "source": [
    "# 学習するための準備"
   ]
  },
  {
   "cell_type": "markdown",
   "metadata": {},
   "source": [
    "予測するためのデータについて考えます.  \n",
    "- boston.dataには学習するための情報(boston.data)と答え(boston.target)がある.\n",
    "- 実際に必要なのは未知データに対しての予測値.\n",
    "- データを学習する部分と,モデルの性能を評価する部分に分ける必要がある."
   ]
  },
  {
   "cell_type": "code",
   "execution_count": null,
   "metadata": {
    "ExecuteTime": {
     "end_time": "2019-02-05T09:51:19.527885Z",
     "start_time": "2019-02-05T09:51:19.502925Z"
    }
   },
   "outputs": [],
   "source": [
    "from sklearn.model_selection import train_test_split"
   ]
  },
  {
   "cell_type": "code",
   "execution_count": null,
   "metadata": {
    "ExecuteTime": {
     "end_time": "2019-02-05T09:51:19.534019Z",
     "start_time": "2019-02-05T09:51:19.529822Z"
    }
   },
   "outputs": [],
   "source": [
    "# もとのデータの形\n",
    "boston.data.shape"
   ]
  },
  {
   "cell_type": "code",
   "execution_count": null,
   "metadata": {
    "ExecuteTime": {
     "end_time": "2019-02-05T09:51:19.542081Z",
     "start_time": "2019-02-05T09:51:19.536828Z"
    }
   },
   "outputs": [],
   "source": [
    "train_X, test_X, train_y, test_y = train_test_split(boston.data, boston.target, test_size=0.3, random_state=42)"
   ]
  },
  {
   "cell_type": "code",
   "execution_count": null,
   "metadata": {
    "ExecuteTime": {
     "end_time": "2019-02-05T09:51:19.552232Z",
     "start_time": "2019-02-05T09:51:19.545941Z"
    }
   },
   "outputs": [],
   "source": [
    "# 学習用のデータの形\n",
    "train_X.shape"
   ]
  },
  {
   "cell_type": "code",
   "execution_count": null,
   "metadata": {
    "ExecuteTime": {
     "end_time": "2019-02-05T09:51:19.565842Z",
     "start_time": "2019-02-05T09:51:19.560256Z"
    }
   },
   "outputs": [],
   "source": [
    "# test用のデータの形\n",
    "test_X.shape"
   ]
  },
  {
   "cell_type": "markdown",
   "metadata": {},
   "source": [
    "# 線形回帰"
   ]
  },
  {
   "cell_type": "markdown",
   "metadata": {},
   "source": [
    " $y = w_0 + w_1x_1 + w_2x_2 + \\cdots + w_nx_n$"
   ]
  },
  {
   "cell_type": "code",
   "execution_count": null,
   "metadata": {
    "ExecuteTime": {
     "end_time": "2019-02-05T09:51:19.587276Z",
     "start_time": "2019-02-05T09:51:19.568216Z"
    }
   },
   "outputs": [],
   "source": [
    "#x1, x2などは各列(特徴量)の値です.\n",
    "df.head(1)"
   ]
  },
  {
   "cell_type": "markdown",
   "metadata": {},
   "source": [
    "学習するのは$w_i$の部分です."
   ]
  },
  {
   "cell_type": "code",
   "execution_count": null,
   "metadata": {
    "ExecuteTime": {
     "end_time": "2019-02-05T09:51:19.653691Z",
     "start_time": "2019-02-05T09:51:19.589642Z"
    }
   },
   "outputs": [],
   "source": [
    "from sklearn.linear_model import LinearRegression"
   ]
  },
  {
   "cell_type": "markdown",
   "metadata": {},
   "source": [
    "scikit-learnのAPIの流れは,\n",
    "1. モデルのインスタンスの作成\n",
    "1. fitメソッドで学習\n",
    "1. predictメソッドで予測\n",
    "\n",
    "です."
   ]
  },
  {
   "cell_type": "code",
   "execution_count": null,
   "metadata": {
    "ExecuteTime": {
     "end_time": "2019-02-05T09:51:19.658515Z",
     "start_time": "2019-02-05T09:51:19.655537Z"
    }
   },
   "outputs": [],
   "source": [
    "# モデルのインスタンスを作成\n",
    "model = LinearRegression()"
   ]
  },
  {
   "cell_type": "code",
   "execution_count": null,
   "metadata": {
    "ExecuteTime": {
     "end_time": "2019-02-05T09:51:19.670312Z",
     "start_time": "2019-02-05T09:51:19.662322Z"
    }
   },
   "outputs": [],
   "source": [
    "# 学習\n",
    "model.fit(train_X, train_y)"
   ]
  },
  {
   "cell_type": "code",
   "execution_count": null,
   "metadata": {
    "ExecuteTime": {
     "end_time": "2019-02-05T09:51:19.676273Z",
     "start_time": "2019-02-05T09:51:19.672867Z"
    }
   },
   "outputs": [],
   "source": [
    "# 予測\n",
    "predict = model.predict(test_X)"
   ]
  },
  {
   "cell_type": "markdown",
   "metadata": {},
   "source": [
    "## モデルの精度検証"
   ]
  },
  {
   "cell_type": "code",
   "execution_count": null,
   "metadata": {
    "ExecuteTime": {
     "end_time": "2019-02-05T09:51:19.682011Z",
     "start_time": "2019-02-05T09:51:19.678767Z"
    }
   },
   "outputs": [],
   "source": [
    "from sklearn.metrics import mean_squared_error"
   ]
  },
  {
   "cell_type": "code",
   "execution_count": null,
   "metadata": {
    "ExecuteTime": {
     "end_time": "2019-02-05T09:51:19.690072Z",
     "start_time": "2019-02-05T09:51:19.684376Z"
    }
   },
   "outputs": [],
   "source": [
    "mean_squared_error(test_y, predict) ** 0.5"
   ]
  },
  {
   "cell_type": "markdown",
   "metadata": {},
   "source": [
    "4638ドルのズレ☆"
   ]
  },
  {
   "cell_type": "markdown",
   "metadata": {},
   "source": [
    "## 重みの可視化"
   ]
  },
  {
   "cell_type": "markdown",
   "metadata": {
    "ExecuteTime": {
     "end_time": "2019-02-05T09:27:49.966424Z",
     "start_time": "2019-02-05T09:27:49.962477Z"
    }
   },
   "source": [
    "重み$w_i$がどの様になっているか可視化する"
   ]
  },
  {
   "cell_type": "code",
   "execution_count": null,
   "metadata": {
    "ExecuteTime": {
     "end_time": "2019-02-05T09:51:19.696536Z",
     "start_time": "2019-02-05T09:51:19.692857Z"
    }
   },
   "outputs": [],
   "source": [
    "import matplotlib.pyplot as plt"
   ]
  },
  {
   "cell_type": "code",
   "execution_count": null,
   "metadata": {
    "ExecuteTime": {
     "end_time": "2019-02-05T09:51:19.703417Z",
     "start_time": "2019-02-05T09:51:19.699372Z"
    }
   },
   "outputs": [],
   "source": [
    "def plot_weight(model):\n",
    "    fig, ax = plt.subplots(figsize=(16, 8))\n",
    "    x = list(range(model.coef_.size))\n",
    "    y = model.coef_\n",
    "    ax.bar(x, y)\n",
    "    ax.set_xticklabels(boston.feature_names) \n",
    "    "
   ]
  },
  {
   "cell_type": "markdown",
   "metadata": {},
   "source": [
    "figやらaxやらについて詳しく知りたい人向け(https://qiita.com/skotaro/items/08dc0b8c5704c94eafb9)"
   ]
  },
  {
   "cell_type": "code",
   "execution_count": null,
   "metadata": {
    "ExecuteTime": {
     "end_time": "2019-02-05T09:51:20.065183Z",
     "start_time": "2019-02-05T09:51:19.705717Z"
    }
   },
   "outputs": [],
   "source": [
    "plot_weight(model)"
   ]
  },
  {
   "cell_type": "markdown",
   "metadata": {},
   "source": [
    "# データのスケールを合わせる "
   ]
  },
  {
   "cell_type": "code",
   "execution_count": null,
   "metadata": {
    "ExecuteTime": {
     "end_time": "2019-02-05T09:51:20.423698Z",
     "start_time": "2019-02-05T09:51:20.067165Z"
    }
   },
   "outputs": [],
   "source": [
    "df.median().plot.bar(figsize=(16, 8))"
   ]
  },
  {
   "cell_type": "markdown",
   "metadata": {},
   "source": [
    "## データの標準化"
   ]
  },
  {
   "cell_type": "code",
   "execution_count": null,
   "metadata": {
    "ExecuteTime": {
     "end_time": "2019-02-05T09:51:20.429300Z",
     "start_time": "2019-02-05T09:51:20.426322Z"
    }
   },
   "outputs": [],
   "source": [
    "from sklearn.preprocessing import StandardScaler"
   ]
  },
  {
   "cell_type": "code",
   "execution_count": null,
   "metadata": {
    "ExecuteTime": {
     "end_time": "2019-02-05T09:51:20.437605Z",
     "start_time": "2019-02-05T09:51:20.431922Z"
    }
   },
   "outputs": [],
   "source": [
    "transformer = StandardScaler()"
   ]
  },
  {
   "cell_type": "code",
   "execution_count": null,
   "metadata": {
    "ExecuteTime": {
     "end_time": "2019-02-05T09:51:20.443433Z",
     "start_time": "2019-02-05T09:51:20.439085Z"
    }
   },
   "outputs": [],
   "source": [
    "train_X_norm = transformer.fit_transform(train_X)"
   ]
  },
  {
   "cell_type": "code",
   "execution_count": null,
   "metadata": {
    "ExecuteTime": {
     "end_time": "2019-02-05T09:51:20.448967Z",
     "start_time": "2019-02-05T09:51:20.445584Z"
    }
   },
   "outputs": [],
   "source": [
    "test_X_norm = transformer.transform(test_X)"
   ]
  },
  {
   "cell_type": "code",
   "execution_count": null,
   "metadata": {
    "ExecuteTime": {
     "end_time": "2019-02-05T09:51:20.455971Z",
     "start_time": "2019-02-05T09:51:20.451319Z"
    }
   },
   "outputs": [],
   "source": [
    "model = LinearRegression()\n",
    "model.fit(train_X_norm, train_y)\n",
    "predict = model.predict(test_X_norm)"
   ]
  },
  {
   "cell_type": "code",
   "execution_count": null,
   "metadata": {
    "ExecuteTime": {
     "end_time": "2019-02-05T09:51:20.465591Z",
     "start_time": "2019-02-05T09:51:20.459404Z"
    }
   },
   "outputs": [],
   "source": [
    "mean_squared_error(test_y, predict) ** 0.5"
   ]
  },
  {
   "cell_type": "code",
   "execution_count": null,
   "metadata": {
    "ExecuteTime": {
     "end_time": "2019-02-05T09:51:20.784164Z",
     "start_time": "2019-02-05T09:51:20.468743Z"
    }
   },
   "outputs": [],
   "source": [
    "plot_weight(model)"
   ]
  },
  {
   "cell_type": "code",
   "execution_count": null,
   "metadata": {
    "ExecuteTime": {
     "end_time": "2019-02-05T09:51:20.836026Z",
     "start_time": "2019-02-05T09:51:20.785932Z"
    }
   },
   "outputs": [],
   "source": [
    "del model, transformer\n",
    "gc.collect()"
   ]
  },
  {
   "cell_type": "markdown",
   "metadata": {},
   "source": [
    "## データの正規化"
   ]
  },
  {
   "cell_type": "code",
   "execution_count": null,
   "metadata": {
    "ExecuteTime": {
     "end_time": "2019-02-05T09:51:20.842204Z",
     "start_time": "2019-02-05T09:51:20.838230Z"
    }
   },
   "outputs": [],
   "source": [
    "from sklearn.preprocessing import Normalizer"
   ]
  },
  {
   "cell_type": "code",
   "execution_count": null,
   "metadata": {
    "ExecuteTime": {
     "end_time": "2019-02-05T09:51:20.846623Z",
     "start_time": "2019-02-05T09:51:20.844122Z"
    }
   },
   "outputs": [],
   "source": [
    "transformer = Normalizer()"
   ]
  },
  {
   "cell_type": "code",
   "execution_count": null,
   "metadata": {
    "ExecuteTime": {
     "end_time": "2019-02-05T09:51:20.852382Z",
     "start_time": "2019-02-05T09:51:20.849331Z"
    }
   },
   "outputs": [],
   "source": [
    "train_X_norm = transformer.fit_transform(train_X)"
   ]
  },
  {
   "cell_type": "code",
   "execution_count": null,
   "metadata": {
    "ExecuteTime": {
     "end_time": "2019-02-05T09:51:20.856960Z",
     "start_time": "2019-02-05T09:51:20.854069Z"
    }
   },
   "outputs": [],
   "source": [
    "test_X_norm = transformer.transform(test_X)"
   ]
  },
  {
   "cell_type": "code",
   "execution_count": null,
   "metadata": {
    "ExecuteTime": {
     "end_time": "2019-02-05T09:51:20.862950Z",
     "start_time": "2019-02-05T09:51:20.858592Z"
    }
   },
   "outputs": [],
   "source": [
    "model = LinearRegression()\n",
    "model.fit(train_X_norm, train_y)\n",
    "predict = model.predict(test_X_norm)"
   ]
  },
  {
   "cell_type": "code",
   "execution_count": null,
   "metadata": {
    "ExecuteTime": {
     "end_time": "2019-02-05T09:51:20.868553Z",
     "start_time": "2019-02-05T09:51:20.864372Z"
    }
   },
   "outputs": [],
   "source": [
    "mean_squared_error(test_y, predict) ** 0.5"
   ]
  },
  {
   "cell_type": "code",
   "execution_count": null,
   "metadata": {
    "ExecuteTime": {
     "end_time": "2019-02-05T09:51:21.182068Z",
     "start_time": "2019-02-05T09:51:20.870539Z"
    }
   },
   "outputs": [],
   "source": [
    "plot_weight(model)"
   ]
  },
  {
   "cell_type": "code",
   "execution_count": null,
   "metadata": {
    "ExecuteTime": {
     "end_time": "2019-02-05T09:51:21.229321Z",
     "start_time": "2019-02-05T09:51:21.183842Z"
    }
   },
   "outputs": [],
   "source": [
    "del model, transformer\n",
    "gc.collect()"
   ]
  },
  {
   "cell_type": "markdown",
   "metadata": {},
   "source": [
    "## 同じことを何回もするの大変なのでこれ以降はPipeLine化する"
   ]
  },
  {
   "cell_type": "code",
   "execution_count": null,
   "metadata": {
    "ExecuteTime": {
     "end_time": "2019-02-05T10:07:08.877581Z",
     "start_time": "2019-02-05T10:07:08.874836Z"
    }
   },
   "outputs": [],
   "source": [
    "from sklearn.pipeline import make_pipeline"
   ]
  },
  {
   "cell_type": "code",
   "execution_count": null,
   "metadata": {
    "ExecuteTime": {
     "end_time": "2019-02-05T10:07:09.373341Z",
     "start_time": "2019-02-05T10:07:09.370627Z"
    }
   },
   "outputs": [],
   "source": [
    "pl = make_pipeline(Normalizer(), LinearRegression())"
   ]
  },
  {
   "cell_type": "code",
   "execution_count": null,
   "metadata": {
    "ExecuteTime": {
     "end_time": "2019-02-05T10:07:09.991509Z",
     "start_time": "2019-02-05T10:07:09.984826Z"
    }
   },
   "outputs": [],
   "source": [
    "pl.fit(train_X, train_y)\n",
    "predict = pl.predict(test_X)\n",
    "mean_squared_error(test_y, predict) ** 0.5"
   ]
  },
  {
   "cell_type": "markdown",
   "metadata": {},
   "source": [
    "# 正則化項をいれる"
   ]
  },
  {
   "cell_type": "code",
   "execution_count": null,
   "metadata": {
    "ExecuteTime": {
     "end_time": "2019-02-05T10:11:16.019363Z",
     "start_time": "2019-02-05T10:11:16.016391Z"
    }
   },
   "outputs": [],
   "source": [
    "from sklearn.linear_model import Ridge, Lasso"
   ]
  },
  {
   "cell_type": "code",
   "execution_count": null,
   "metadata": {
    "ExecuteTime": {
     "end_time": "2019-02-05T10:10:48.915402Z",
     "start_time": "2019-02-05T10:10:48.912551Z"
    }
   },
   "outputs": [],
   "source": [
    "pl = make_pipeline(StandardScaler(), Ridge(alpha=1e-2))"
   ]
  },
  {
   "cell_type": "code",
   "execution_count": null,
   "metadata": {
    "ExecuteTime": {
     "end_time": "2019-02-05T10:10:49.356679Z",
     "start_time": "2019-02-05T10:10:49.349102Z"
    }
   },
   "outputs": [],
   "source": [
    "pl.fit(train_X, train_y)\n",
    "predict = pl.predict(test_X)\n",
    "mean_squared_error(test_y, predict) ** 0.5"
   ]
  },
  {
   "cell_type": "code",
   "execution_count": null,
   "metadata": {
    "ExecuteTime": {
     "end_time": "2019-02-05T10:12:07.955342Z",
     "start_time": "2019-02-05T10:12:07.947853Z"
    }
   },
   "outputs": [],
   "source": [
    "pl = make_pipeline(Normalizer(), Lasso(alpha=1e-6))\n",
    "pl.fit(train_X, train_y)\n",
    "predict = pl.predict(test_X)\n",
    "mean_squared_error(test_y, predict) ** 0.5"
   ]
  },
  {
   "cell_type": "code",
   "execution_count": null,
   "metadata": {},
   "outputs": [],
   "source": []
  }
 ],
 "metadata": {
  "kernelspec": {
   "display_name": "Python 3",
   "language": "python",
   "name": "python3"
  },
  "language_info": {
   "codemirror_mode": {
    "name": "ipython",
    "version": 3
   },
   "file_extension": ".py",
   "mimetype": "text/x-python",
   "name": "python",
   "nbconvert_exporter": "python",
   "pygments_lexer": "ipython3",
   "version": "3.6.7"
  },
  "toc": {
   "base_numbering": 1,
   "nav_menu": {},
   "number_sections": true,
   "sideBar": true,
   "skip_h1_title": false,
   "title_cell": "Table of Contents",
   "title_sidebar": "Contents",
   "toc_cell": false,
   "toc_position": {},
   "toc_section_display": true,
   "toc_window_display": true
  }
 },
 "nbformat": 4,
 "nbformat_minor": 2
}
