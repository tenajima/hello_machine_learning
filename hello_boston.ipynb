{
 "cells": [
  {
   "cell_type": "code",
   "execution_count": null,
   "metadata": {
    "ExecuteTime": {
     "end_time": "2019-02-12T08:35:07.743355Z",
     "start_time": "2019-02-12T08:34:52.651252Z"
    }
   },
   "outputs": [],
   "source": [
    "# リッチな見た目のグラフライブラリ\n",
    "import seaborn as sns\n",
    "import gc"
   ]
  },
  {
   "cell_type": "code",
   "execution_count": null,
   "metadata": {
    "ExecuteTime": {
     "end_time": "2019-02-12T08:35:07.750984Z",
     "start_time": "2019-02-12T08:35:07.746236Z"
    }
   },
   "outputs": [],
   "source": [
    "# gcを使えるようにする.\n",
    "gc.enable()\n",
    "# del hoge\n",
    "# gc.collect() で使える\n",
    "\n",
    "# グラフの見た目をいい感じにする\n",
    "sns.set()"
   ]
  },
  {
   "cell_type": "markdown",
   "metadata": {},
   "source": [
    "# 住宅価格の予想でこんにちは"
   ]
  },
  {
   "cell_type": "markdown",
   "metadata": {},
   "source": [
    "## データのダウンロード"
   ]
  },
  {
   "cell_type": "code",
   "execution_count": null,
   "metadata": {
    "ExecuteTime": {
     "end_time": "2019-02-12T08:35:09.327169Z",
     "start_time": "2019-02-12T08:35:07.752880Z"
    }
   },
   "outputs": [],
   "source": [
    "from sklearn.datasets import load_boston"
   ]
  },
  {
   "cell_type": "markdown",
   "metadata": {},
   "source": [
    "なにこれって関数の中身とか知りたいときは..."
   ]
  },
  {
   "cell_type": "code",
   "execution_count": null,
   "metadata": {
    "ExecuteTime": {
     "end_time": "2019-02-12T08:35:09.409965Z",
     "start_time": "2019-02-12T08:35:09.330617Z"
    }
   },
   "outputs": [],
   "source": [
    "load_boston?"
   ]
  },
  {
   "cell_type": "code",
   "execution_count": null,
   "metadata": {
    "ExecuteTime": {
     "end_time": "2019-02-12T08:35:09.498952Z",
     "start_time": "2019-02-12T08:35:09.413265Z"
    }
   },
   "outputs": [],
   "source": [
    "boston = load_boston()"
   ]
  },
  {
   "cell_type": "markdown",
   "metadata": {},
   "source": [
    "## 特徴量の確認"
   ]
  },
  {
   "cell_type": "code",
   "execution_count": null,
   "metadata": {
    "ExecuteTime": {
     "end_time": "2019-02-12T08:35:09.507715Z",
     "start_time": "2019-02-12T08:35:09.501015Z"
    }
   },
   "outputs": [],
   "source": [
    "boston.data"
   ]
  },
  {
   "cell_type": "markdown",
   "metadata": {},
   "source": [
    "## 答えの確認"
   ]
  },
  {
   "cell_type": "code",
   "execution_count": null,
   "metadata": {
    "ExecuteTime": {
     "end_time": "2019-02-12T08:35:09.521394Z",
     "start_time": "2019-02-12T08:35:09.510209Z"
    },
    "scrolled": true
   },
   "outputs": [],
   "source": [
    "boston.target"
   ]
  },
  {
   "cell_type": "code",
   "execution_count": null,
   "metadata": {
    "ExecuteTime": {
     "end_time": "2019-02-12T08:35:09.528443Z",
     "start_time": "2019-02-12T08:35:09.523805Z"
    }
   },
   "outputs": [],
   "source": [
    "boston.feature_names"
   ]
  },
  {
   "cell_type": "markdown",
   "metadata": {},
   "source": [
    "詳しくはこちら(https://scikit-learn.org/stable/datasets/index.html#boston-dataset)  \n",
    "日本語ではこちら(https://pythondatascience.plavox.info/scikit-learn/scikit-learn%E3%81%AB%E4%BB%98%E5%B1%9E%E3%81%97%E3%81%A6%E3%81%84%E3%82%8B%E3%83%87%E3%83%BC%E3%82%BF%E3%82%BB%E3%83%83%E3%83%88)"
   ]
  },
  {
   "cell_type": "markdown",
   "metadata": {},
   "source": [
    "# pandasを使って見やすくデータ分析をする"
   ]
  },
  {
   "cell_type": "code",
   "execution_count": null,
   "metadata": {
    "ExecuteTime": {
     "end_time": "2019-02-12T08:35:09.533175Z",
     "start_time": "2019-02-12T08:35:09.530490Z"
    }
   },
   "outputs": [],
   "source": [
    "import pandas as pd"
   ]
  },
  {
   "cell_type": "code",
   "execution_count": null,
   "metadata": {
    "ExecuteTime": {
     "end_time": "2019-02-12T08:35:09.541699Z",
     "start_time": "2019-02-12T08:35:09.536311Z"
    },
    "scrolled": true
   },
   "outputs": [],
   "source": [
    "df = pd.DataFrame(boston.data, columns=boston.feature_names)"
   ]
  },
  {
   "cell_type": "markdown",
   "metadata": {},
   "source": [
    "## いろいろできます"
   ]
  },
  {
   "cell_type": "markdown",
   "metadata": {},
   "source": [
    "### 相関係数"
   ]
  },
  {
   "cell_type": "code",
   "execution_count": null,
   "metadata": {
    "ExecuteTime": {
     "end_time": "2019-02-12T08:35:09.580832Z",
     "start_time": "2019-02-12T08:35:09.545026Z"
    }
   },
   "outputs": [],
   "source": [
    "df.corr()"
   ]
  },
  {
   "cell_type": "markdown",
   "metadata": {},
   "source": [
    "### AGEが50以上のデータ抽出"
   ]
  },
  {
   "cell_type": "code",
   "execution_count": null,
   "metadata": {
    "ExecuteTime": {
     "end_time": "2019-02-12T08:35:09.666996Z",
     "start_time": "2019-02-12T08:35:09.582695Z"
    },
    "scrolled": true
   },
   "outputs": [],
   "source": [
    "df.query('AGE > 50')"
   ]
  },
  {
   "cell_type": "markdown",
   "metadata": {},
   "source": [
    "### 欠損値の確認"
   ]
  },
  {
   "cell_type": "code",
   "execution_count": null,
   "metadata": {
    "ExecuteTime": {
     "end_time": "2019-02-12T08:35:09.719179Z",
     "start_time": "2019-02-12T08:35:09.668856Z"
    }
   },
   "outputs": [],
   "source": [
    "# このデータに欠損値はない\n",
    "df.isna().sum() / df.shape[0]"
   ]
  },
  {
   "cell_type": "markdown",
   "metadata": {},
   "source": [
    "# 学習するための準備"
   ]
  },
  {
   "cell_type": "markdown",
   "metadata": {},
   "source": [
    "予測するためのデータについて考えます.  \n",
    "- boston.dataには学習するための情報(boston.data)と答え(boston.target)がある.\n",
    "- 実際に必要なのは未知データに対しての予測値.\n",
    "- データを学習する部分と,モデルの性能を評価する部分に分ける必要がある."
   ]
  },
  {
   "cell_type": "code",
   "execution_count": null,
   "metadata": {
    "ExecuteTime": {
     "end_time": "2019-02-12T08:35:09.965257Z",
     "start_time": "2019-02-12T08:35:09.720754Z"
    }
   },
   "outputs": [],
   "source": [
    "from sklearn.model_selection import train_test_split"
   ]
  },
  {
   "cell_type": "code",
   "execution_count": null,
   "metadata": {
    "ExecuteTime": {
     "end_time": "2019-02-12T08:35:09.971709Z",
     "start_time": "2019-02-12T08:35:09.967050Z"
    }
   },
   "outputs": [],
   "source": [
    "# もとのデータの形\n",
    "boston.data.shape"
   ]
  },
  {
   "cell_type": "code",
   "execution_count": null,
   "metadata": {
    "ExecuteTime": {
     "end_time": "2019-02-12T08:35:09.978539Z",
     "start_time": "2019-02-12T08:35:09.974115Z"
    }
   },
   "outputs": [],
   "source": [
    "train_X, test_X, train_y, test_y = train_test_split(boston.data, boston.target, test_size=0.3, random_state=42)"
   ]
  },
  {
   "cell_type": "code",
   "execution_count": null,
   "metadata": {
    "ExecuteTime": {
     "end_time": "2019-02-12T08:35:09.985952Z",
     "start_time": "2019-02-12T08:35:09.981264Z"
    }
   },
   "outputs": [],
   "source": [
    "# 学習用のデータの形\n",
    "train_X.shape"
   ]
  },
  {
   "cell_type": "code",
   "execution_count": null,
   "metadata": {
    "ExecuteTime": {
     "end_time": "2019-02-12T08:35:09.996037Z",
     "start_time": "2019-02-12T08:35:09.992179Z"
    }
   },
   "outputs": [],
   "source": [
    "# test用のデータの形\n",
    "test_X.shape"
   ]
  },
  {
   "cell_type": "markdown",
   "metadata": {},
   "source": [
    "# 線形回帰"
   ]
  },
  {
   "cell_type": "markdown",
   "metadata": {},
   "source": [
    " $y = w_0 + w_1x_1 + w_2x_2 + \\cdots + w_nx_n$"
   ]
  },
  {
   "cell_type": "code",
   "execution_count": null,
   "metadata": {
    "ExecuteTime": {
     "end_time": "2019-02-12T08:35:10.019580Z",
     "start_time": "2019-02-12T08:35:09.998694Z"
    }
   },
   "outputs": [],
   "source": [
    "#x1, x2などは各列(特徴量)の値です.\n",
    "df.head(1)"
   ]
  },
  {
   "cell_type": "markdown",
   "metadata": {},
   "source": [
    "学習するのは$w_i$の部分です."
   ]
  },
  {
   "cell_type": "code",
   "execution_count": null,
   "metadata": {
    "ExecuteTime": {
     "end_time": "2019-02-12T08:35:10.586619Z",
     "start_time": "2019-02-12T08:35:10.021207Z"
    }
   },
   "outputs": [],
   "source": [
    "from sklearn.linear_model import LinearRegression"
   ]
  },
  {
   "cell_type": "markdown",
   "metadata": {},
   "source": [
    "scikit-learnのAPIの流れは,\n",
    "1. モデルのインスタンスの作成\n",
    "1. fitメソッドで学習\n",
    "1. predictメソッドで予測\n",
    "\n",
    "です."
   ]
  },
  {
   "cell_type": "code",
   "execution_count": null,
   "metadata": {
    "ExecuteTime": {
     "end_time": "2019-02-12T08:35:10.591544Z",
     "start_time": "2019-02-12T08:35:10.588008Z"
    }
   },
   "outputs": [],
   "source": [
    "# モデルのインスタンスを作成\n",
    "model = LinearRegression()"
   ]
  },
  {
   "cell_type": "code",
   "execution_count": null,
   "metadata": {
    "ExecuteTime": {
     "end_time": "2019-02-12T08:35:10.605591Z",
     "start_time": "2019-02-12T08:35:10.593866Z"
    }
   },
   "outputs": [],
   "source": [
    "# 学習\n",
    "model.fit(train_X, train_y)"
   ]
  },
  {
   "cell_type": "code",
   "execution_count": null,
   "metadata": {
    "ExecuteTime": {
     "end_time": "2019-02-12T08:35:10.610749Z",
     "start_time": "2019-02-12T08:35:10.607622Z"
    }
   },
   "outputs": [],
   "source": [
    "# 予測\n",
    "predict = model.predict(test_X)"
   ]
  },
  {
   "cell_type": "markdown",
   "metadata": {},
   "source": [
    "## モデルの精度検証"
   ]
  },
  {
   "cell_type": "code",
   "execution_count": null,
   "metadata": {
    "ExecuteTime": {
     "end_time": "2019-02-12T08:35:10.616619Z",
     "start_time": "2019-02-12T08:35:10.613727Z"
    }
   },
   "outputs": [],
   "source": [
    "from sklearn.metrics import mean_squared_error"
   ]
  },
  {
   "cell_type": "code",
   "execution_count": null,
   "metadata": {
    "ExecuteTime": {
     "end_time": "2019-02-12T08:35:10.622733Z",
     "start_time": "2019-02-12T08:35:10.618663Z"
    }
   },
   "outputs": [],
   "source": [
    "mean_squared_error(test_y, predict) ** 0.5"
   ]
  },
  {
   "cell_type": "markdown",
   "metadata": {},
   "source": [
    "4638ドルのズレ☆"
   ]
  },
  {
   "cell_type": "markdown",
   "metadata": {},
   "source": [
    "## 重みの可視化"
   ]
  },
  {
   "cell_type": "markdown",
   "metadata": {
    "ExecuteTime": {
     "end_time": "2019-02-05T09:27:49.966424Z",
     "start_time": "2019-02-05T09:27:49.962477Z"
    }
   },
   "source": [
    "重み$w_i$がどの様になっているか可視化する"
   ]
  },
  {
   "cell_type": "code",
   "execution_count": null,
   "metadata": {
    "ExecuteTime": {
     "end_time": "2019-02-12T08:35:10.627153Z",
     "start_time": "2019-02-12T08:35:10.624523Z"
    }
   },
   "outputs": [],
   "source": [
    "import matplotlib.pyplot as plt"
   ]
  },
  {
   "cell_type": "code",
   "execution_count": null,
   "metadata": {
    "ExecuteTime": {
     "end_time": "2019-02-12T08:35:10.632775Z",
     "start_time": "2019-02-12T08:35:10.629120Z"
    }
   },
   "outputs": [],
   "source": [
    "def plot_weight(model):\n",
    "    fig, ax = plt.subplots(figsize=(16, 8))\n",
    "    x = list(range(model.coef_.size))\n",
    "    y = model.coef_\n",
    "    ax.bar(x, y)\n",
    "    ax.set_xticklabels(boston.feature_names) \n",
    "    "
   ]
  },
  {
   "cell_type": "markdown",
   "metadata": {},
   "source": [
    "figやらaxやらについて詳しく知りたい人向け(https://qiita.com/skotaro/items/08dc0b8c5704c94eafb9)"
   ]
  },
  {
   "cell_type": "code",
   "execution_count": null,
   "metadata": {
    "ExecuteTime": {
     "end_time": "2019-02-12T08:35:10.967032Z",
     "start_time": "2019-02-12T08:35:10.634844Z"
    }
   },
   "outputs": [],
   "source": [
    "plot_weight(model)"
   ]
  },
  {
   "cell_type": "markdown",
   "metadata": {},
   "source": [
    "# データのスケールを合わせる "
   ]
  },
  {
   "cell_type": "code",
   "execution_count": null,
   "metadata": {
    "ExecuteTime": {
     "end_time": "2019-02-12T08:35:11.348177Z",
     "start_time": "2019-02-12T08:35:10.968653Z"
    }
   },
   "outputs": [],
   "source": [
    "df.median().plot.bar(figsize=(16, 8))"
   ]
  },
  {
   "cell_type": "markdown",
   "metadata": {},
   "source": [
    "## データの標準化"
   ]
  },
  {
   "cell_type": "code",
   "execution_count": null,
   "metadata": {
    "ExecuteTime": {
     "end_time": "2019-02-12T08:35:11.353586Z",
     "start_time": "2019-02-12T08:35:11.350612Z"
    }
   },
   "outputs": [],
   "source": [
    "from sklearn.preprocessing import StandardScaler"
   ]
  },
  {
   "cell_type": "code",
   "execution_count": null,
   "metadata": {
    "ExecuteTime": {
     "end_time": "2019-02-12T08:35:11.361003Z",
     "start_time": "2019-02-12T08:35:11.355988Z"
    }
   },
   "outputs": [],
   "source": [
    "transformer = StandardScaler()"
   ]
  },
  {
   "cell_type": "code",
   "execution_count": null,
   "metadata": {
    "ExecuteTime": {
     "end_time": "2019-02-12T08:35:11.367834Z",
     "start_time": "2019-02-12T08:35:11.363049Z"
    }
   },
   "outputs": [],
   "source": [
    "train_X_norm = transformer.fit_transform(train_X)"
   ]
  },
  {
   "cell_type": "code",
   "execution_count": null,
   "metadata": {
    "ExecuteTime": {
     "end_time": "2019-02-12T08:35:11.373852Z",
     "start_time": "2019-02-12T08:35:11.370419Z"
    }
   },
   "outputs": [],
   "source": [
    "test_X_norm = transformer.transform(test_X)"
   ]
  },
  {
   "cell_type": "code",
   "execution_count": null,
   "metadata": {
    "ExecuteTime": {
     "end_time": "2019-02-12T08:35:11.380846Z",
     "start_time": "2019-02-12T08:35:11.376720Z"
    }
   },
   "outputs": [],
   "source": [
    "model = LinearRegression()\n",
    "model.fit(train_X_norm, train_y)\n",
    "predict = model.predict(test_X_norm)"
   ]
  },
  {
   "cell_type": "code",
   "execution_count": null,
   "metadata": {
    "ExecuteTime": {
     "end_time": "2019-02-12T08:35:11.387165Z",
     "start_time": "2019-02-12T08:35:11.382538Z"
    }
   },
   "outputs": [],
   "source": [
    "mean_squared_error(test_y, predict) ** 0.5"
   ]
  },
  {
   "cell_type": "code",
   "execution_count": null,
   "metadata": {
    "ExecuteTime": {
     "end_time": "2019-02-12T08:35:11.708326Z",
     "start_time": "2019-02-12T08:35:11.389994Z"
    }
   },
   "outputs": [],
   "source": [
    "plot_weight(model)"
   ]
  },
  {
   "cell_type": "code",
   "execution_count": null,
   "metadata": {
    "ExecuteTime": {
     "end_time": "2019-02-12T08:35:11.757086Z",
     "start_time": "2019-02-12T08:35:11.710288Z"
    }
   },
   "outputs": [],
   "source": [
    "del model, transformer\n",
    "gc.collect()"
   ]
  },
  {
   "cell_type": "markdown",
   "metadata": {},
   "source": [
    "## データの正規化"
   ]
  },
  {
   "cell_type": "code",
   "execution_count": null,
   "metadata": {
    "ExecuteTime": {
     "end_time": "2019-02-12T08:35:11.762948Z",
     "start_time": "2019-02-12T08:35:11.759288Z"
    }
   },
   "outputs": [],
   "source": [
    "from sklearn.preprocessing import Normalizer"
   ]
  },
  {
   "cell_type": "code",
   "execution_count": null,
   "metadata": {
    "ExecuteTime": {
     "end_time": "2019-02-12T08:35:11.768579Z",
     "start_time": "2019-02-12T08:35:11.765627Z"
    }
   },
   "outputs": [],
   "source": [
    "transformer = Normalizer()"
   ]
  },
  {
   "cell_type": "code",
   "execution_count": null,
   "metadata": {
    "ExecuteTime": {
     "end_time": "2019-02-12T08:35:11.774123Z",
     "start_time": "2019-02-12T08:35:11.770898Z"
    }
   },
   "outputs": [],
   "source": [
    "train_X_norm = transformer.fit_transform(train_X)"
   ]
  },
  {
   "cell_type": "code",
   "execution_count": null,
   "metadata": {
    "ExecuteTime": {
     "end_time": "2019-02-12T08:35:11.779746Z",
     "start_time": "2019-02-12T08:35:11.776231Z"
    }
   },
   "outputs": [],
   "source": [
    "test_X_norm = transformer.transform(test_X)"
   ]
  },
  {
   "cell_type": "code",
   "execution_count": null,
   "metadata": {
    "ExecuteTime": {
     "end_time": "2019-02-12T08:35:11.787697Z",
     "start_time": "2019-02-12T08:35:11.782463Z"
    }
   },
   "outputs": [],
   "source": [
    "model = LinearRegression()\n",
    "model.fit(train_X_norm, train_y)\n",
    "predict = model.predict(test_X_norm)"
   ]
  },
  {
   "cell_type": "code",
   "execution_count": null,
   "metadata": {
    "ExecuteTime": {
     "end_time": "2019-02-12T08:35:11.795562Z",
     "start_time": "2019-02-12T08:35:11.790302Z"
    }
   },
   "outputs": [],
   "source": [
    "mean_squared_error(test_y, predict) ** 0.5"
   ]
  },
  {
   "cell_type": "code",
   "execution_count": null,
   "metadata": {
    "ExecuteTime": {
     "end_time": "2019-02-12T08:35:12.114339Z",
     "start_time": "2019-02-12T08:35:11.798060Z"
    }
   },
   "outputs": [],
   "source": [
    "plot_weight(model)"
   ]
  },
  {
   "cell_type": "code",
   "execution_count": null,
   "metadata": {
    "ExecuteTime": {
     "end_time": "2019-02-12T08:35:12.157751Z",
     "start_time": "2019-02-12T08:35:12.116482Z"
    }
   },
   "outputs": [],
   "source": [
    "del model, transformer\n",
    "gc.collect()"
   ]
  },
  {
   "cell_type": "markdown",
   "metadata": {},
   "source": [
    "## 同じことを何回もするの大変なのでこれ以降はPipeLine化する"
   ]
  },
  {
   "cell_type": "code",
   "execution_count": null,
   "metadata": {
    "ExecuteTime": {
     "end_time": "2019-02-12T08:35:12.170847Z",
     "start_time": "2019-02-12T08:35:12.160552Z"
    }
   },
   "outputs": [],
   "source": [
    "from sklearn.pipeline import make_pipeline"
   ]
  },
  {
   "cell_type": "code",
   "execution_count": null,
   "metadata": {
    "ExecuteTime": {
     "end_time": "2019-02-12T08:47:35.518632Z",
     "start_time": "2019-02-12T08:47:35.515934Z"
    }
   },
   "outputs": [],
   "source": [
    "pl = make_pipeline(Normalizer(), LinearRegression())"
   ]
  },
  {
   "cell_type": "code",
   "execution_count": null,
   "metadata": {
    "ExecuteTime": {
     "end_time": "2019-02-12T08:47:35.840327Z",
     "start_time": "2019-02-12T08:47:35.834138Z"
    }
   },
   "outputs": [],
   "source": [
    "pl.fit(train_X, train_y)\n",
    "predict_linear = pl.predict(test_X)\n",
    "mean_squared_error(test_y, predict_linear) ** 0.5"
   ]
  },
  {
   "cell_type": "markdown",
   "metadata": {},
   "source": [
    "# 正則化項をいれる"
   ]
  },
  {
   "cell_type": "code",
   "execution_count": null,
   "metadata": {
    "ExecuteTime": {
     "end_time": "2019-02-12T08:47:36.354578Z",
     "start_time": "2019-02-12T08:47:36.351813Z"
    }
   },
   "outputs": [],
   "source": [
    "from sklearn.linear_model import Ridge, Lasso"
   ]
  },
  {
   "cell_type": "markdown",
   "metadata": {},
   "source": [
    "## Ridge"
   ]
  },
  {
   "cell_type": "code",
   "execution_count": null,
   "metadata": {
    "ExecuteTime": {
     "end_time": "2019-02-12T08:53:36.727888Z",
     "start_time": "2019-02-12T08:53:36.720188Z"
    }
   },
   "outputs": [],
   "source": [
    "pl = make_pipeline(Normalizer(), Ridge(alpha=1e-6))\n",
    "pl.fit(train_X, train_y)\n",
    "predict_ridge = pl.predict(test_X)\n",
    "mean_squared_error(test_y, predict_ridge) ** 0.5"
   ]
  },
  {
   "cell_type": "code",
   "execution_count": null,
   "metadata": {
    "ExecuteTime": {
     "end_time": "2019-02-12T08:51:31.051331Z",
     "start_time": "2019-02-12T08:51:30.723292Z"
    }
   },
   "outputs": [],
   "source": [
    "plot_weight(pl.named_steps['ridge'])"
   ]
  },
  {
   "cell_type": "markdown",
   "metadata": {},
   "source": [
    "## Lasso"
   ]
  },
  {
   "cell_type": "code",
   "execution_count": null,
   "metadata": {
    "ExecuteTime": {
     "end_time": "2019-02-12T08:53:28.623698Z",
     "start_time": "2019-02-12T08:53:28.615993Z"
    }
   },
   "outputs": [],
   "source": [
    "pl = make_pipeline(Normalizer(), Lasso(alpha=1e-6))\n",
    "pl.fit(train_X, train_y)\n",
    "predict_lasso = pl.predict(test_X)\n",
    "mean_squared_error(test_y, predict_lasso) ** 0.5"
   ]
  },
  {
   "cell_type": "code",
   "execution_count": null,
   "metadata": {
    "ExecuteTime": {
     "end_time": "2019-02-12T08:51:31.913684Z",
     "start_time": "2019-02-12T08:51:31.604551Z"
    }
   },
   "outputs": [],
   "source": [
    "plot_weight(pl.named_steps['lasso'])"
   ]
  },
  {
   "cell_type": "markdown",
   "metadata": {},
   "source": [
    "# まとめ"
   ]
  },
  {
   "cell_type": "markdown",
   "metadata": {
    "ExecuteTime": {
     "end_time": "2019-02-12T08:57:41.876353Z",
     "start_time": "2019-02-12T08:57:41.858794Z"
    }
   },
   "source": [
    "- まずはどんなデータかを理解する\n",
    "- 機械にデータを理解させるための前処理をする\n",
    "- 良さげな特徴量をつくる\n",
    "- 過学習と学習不足に気を配る"
   ]
  }
 ],
 "metadata": {
  "kernelspec": {
   "display_name": "Python 3",
   "language": "python",
   "name": "python3"
  },
  "language_info": {
   "codemirror_mode": {
    "name": "ipython",
    "version": 3
   },
   "file_extension": ".py",
   "mimetype": "text/x-python",
   "name": "python",
   "nbconvert_exporter": "python",
   "pygments_lexer": "ipython3",
   "version": "3.6.7"
  },
  "toc": {
   "base_numbering": 1,
   "nav_menu": {},
   "number_sections": true,
   "sideBar": true,
   "skip_h1_title": false,
   "title_cell": "Table of Contents",
   "title_sidebar": "Contents",
   "toc_cell": false,
   "toc_position": {},
   "toc_section_display": true,
   "toc_window_display": true
  }
 },
 "nbformat": 4,
 "nbformat_minor": 2
}
