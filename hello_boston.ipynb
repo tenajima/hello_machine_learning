{
 "cells": [
  {
   "cell_type": "markdown",
   "metadata": {},
   "source": [
    "[colaboratoryで開く  ](https://colab.research.google.com/github/tenajima/hello_machine_learning/blob/master/hello_boston.ipynb)"
   ]
  },
  {
   "cell_type": "markdown",
   "metadata": {},
   "source": [
    "-------------------------"
   ]
  },
  {
   "cell_type": "code",
   "execution_count": null,
   "metadata": {
    "ExecuteTime": {
     "end_time": "2019-03-01T07:26:46.399059Z",
     "start_time": "2019-03-01T07:26:30.398743Z"
    }
   },
   "outputs": [],
   "source": [
    "# リッチな見た目のグラフライブラリ\n",
    "import gc\n",
    "\n",
    "import numpy as np\n",
    "import seaborn as sns"
   ]
  },
  {
   "cell_type": "code",
   "execution_count": null,
   "metadata": {
    "ExecuteTime": {
     "end_time": "2019-03-01T07:26:46.406539Z",
     "start_time": "2019-03-01T07:26:46.401736Z"
    }
   },
   "outputs": [],
   "source": [
    "# gcを使えるようにする.\n",
    "gc.enable()\n",
    "# del hoge\n",
    "# gc.collect() で使える\n",
    "\n",
    "# グラフの見た目をいい感じにする\n",
    "sns.set()"
   ]
  },
  {
   "cell_type": "markdown",
   "metadata": {},
   "source": [
    "# 住宅価格の予想でこんにちは"
   ]
  },
  {
   "cell_type": "markdown",
   "metadata": {},
   "source": [
    "## データのダウンロード"
   ]
  },
  {
   "cell_type": "code",
   "execution_count": null,
   "metadata": {
    "ExecuteTime": {
     "end_time": "2019-03-01T07:26:48.009560Z",
     "start_time": "2019-03-01T07:26:46.410192Z"
    }
   },
   "outputs": [],
   "source": [
    "from sklearn.datasets import load_boston"
   ]
  },
  {
   "cell_type": "markdown",
   "metadata": {},
   "source": [
    "なにこれって関数の中身とか知りたいときは..."
   ]
  },
  {
   "cell_type": "code",
   "execution_count": null,
   "metadata": {
    "ExecuteTime": {
     "end_time": "2019-03-01T07:26:48.087064Z",
     "start_time": "2019-03-01T07:26:48.012983Z"
    }
   },
   "outputs": [],
   "source": [
    "load_boston?"
   ]
  },
  {
   "cell_type": "code",
   "execution_count": null,
   "metadata": {
    "ExecuteTime": {
     "end_time": "2019-03-01T07:26:48.137937Z",
     "start_time": "2019-03-01T07:26:48.090701Z"
    }
   },
   "outputs": [],
   "source": [
    "boston = load_boston()"
   ]
  },
  {
   "cell_type": "markdown",
   "metadata": {},
   "source": [
    "## 特徴量の確認"
   ]
  },
  {
   "cell_type": "code",
   "execution_count": null,
   "metadata": {
    "ExecuteTime": {
     "end_time": "2019-03-01T07:26:48.150889Z",
     "start_time": "2019-03-01T07:26:48.140898Z"
    }
   },
   "outputs": [],
   "source": [
    "boston.data"
   ]
  },
  {
   "cell_type": "markdown",
   "metadata": {},
   "source": [
    "## 正解ラベルの確認"
   ]
  },
  {
   "cell_type": "code",
   "execution_count": null,
   "metadata": {
    "ExecuteTime": {
     "end_time": "2019-03-01T07:26:48.167065Z",
     "start_time": "2019-03-01T07:26:48.153318Z"
    },
    "scrolled": true
   },
   "outputs": [],
   "source": [
    "boston.target"
   ]
  },
  {
   "cell_type": "code",
   "execution_count": null,
   "metadata": {
    "ExecuteTime": {
     "end_time": "2019-03-01T07:26:48.178029Z",
     "start_time": "2019-03-01T07:26:48.170665Z"
    }
   },
   "outputs": [],
   "source": [
    "boston.feature_names"
   ]
  },
  {
   "cell_type": "markdown",
   "metadata": {},
   "source": [
    "詳しくはこちら(https://scikit-learn.org/stable/datasets/index.html#boston-dataset)  \n",
    "日本語ではこちら(https://pythondatascience.plavox.info/scikit-learn/scikit-learn%E3%81%AB%E4%BB%98%E5%B1%9E%E3%81%97%E3%81%A6%E3%81%84%E3%82%8B%E3%83%87%E3%83%BC%E3%82%BF%E3%82%BB%E3%83%83%E3%83%88)"
   ]
  },
  {
   "cell_type": "markdown",
   "metadata": {},
   "source": [
    "# pandasを使って見やすくデータ分析をする"
   ]
  },
  {
   "cell_type": "code",
   "execution_count": null,
   "metadata": {
    "ExecuteTime": {
     "end_time": "2019-03-01T07:26:48.188860Z",
     "start_time": "2019-03-01T07:26:48.182652Z"
    }
   },
   "outputs": [],
   "source": [
    "import pandas as pd"
   ]
  },
  {
   "cell_type": "code",
   "execution_count": null,
   "metadata": {
    "ExecuteTime": {
     "end_time": "2019-03-01T07:26:48.200359Z",
     "start_time": "2019-03-01T07:26:48.193357Z"
    },
    "scrolled": true
   },
   "outputs": [],
   "source": [
    "df = pd.DataFrame(boston.data, columns=boston.feature_names)"
   ]
  },
  {
   "cell_type": "markdown",
   "metadata": {},
   "source": [
    "## いろいろできます"
   ]
  },
  {
   "cell_type": "markdown",
   "metadata": {},
   "source": [
    "### 相関係数"
   ]
  },
  {
   "cell_type": "code",
   "execution_count": null,
   "metadata": {
    "ExecuteTime": {
     "end_time": "2019-03-01T07:26:48.272743Z",
     "start_time": "2019-03-01T07:26:48.204300Z"
    }
   },
   "outputs": [],
   "source": [
    "df.corr()"
   ]
  },
  {
   "cell_type": "markdown",
   "metadata": {},
   "source": [
    "### AGEが50以上のデータ抽出"
   ]
  },
  {
   "cell_type": "code",
   "execution_count": null,
   "metadata": {
    "ExecuteTime": {
     "end_time": "2019-03-01T07:26:48.378702Z",
     "start_time": "2019-03-01T07:26:48.275211Z"
    },
    "scrolled": true
   },
   "outputs": [],
   "source": [
    "df.query('AGE > 50')"
   ]
  },
  {
   "cell_type": "markdown",
   "metadata": {},
   "source": [
    "### 欠損値の確認"
   ]
  },
  {
   "cell_type": "code",
   "execution_count": null,
   "metadata": {
    "ExecuteTime": {
     "end_time": "2019-03-01T07:26:48.405220Z",
     "start_time": "2019-03-01T07:26:48.381740Z"
    }
   },
   "outputs": [],
   "source": [
    "# このデータに欠損値はない\n",
    "df.isna().sum() / df.shape[0]"
   ]
  },
  {
   "cell_type": "markdown",
   "metadata": {},
   "source": [
    "# 学習するための準備"
   ]
  },
  {
   "cell_type": "markdown",
   "metadata": {},
   "source": [
    "予測するためのデータについて考えます.  \n",
    "- boston.dataには学習するための情報(boston.data)と答え(boston.target)がある.\n",
    "- 実際に必要なのは未知データに対しての予測値.\n",
    "- データを学習する部分と,モデルの性能を評価する部分に分ける必要がある."
   ]
  },
  {
   "cell_type": "code",
   "execution_count": null,
   "metadata": {
    "ExecuteTime": {
     "end_time": "2019-03-01T07:26:48.948266Z",
     "start_time": "2019-03-01T07:26:48.411695Z"
    }
   },
   "outputs": [],
   "source": [
    "from sklearn.model_selection import train_test_split"
   ]
  },
  {
   "cell_type": "code",
   "execution_count": null,
   "metadata": {
    "ExecuteTime": {
     "end_time": "2019-03-01T07:26:48.956300Z",
     "start_time": "2019-03-01T07:26:48.950478Z"
    }
   },
   "outputs": [],
   "source": [
    "# もとのデータの形\n",
    "boston.data.shape"
   ]
  },
  {
   "cell_type": "code",
   "execution_count": null,
   "metadata": {
    "ExecuteTime": {
     "end_time": "2019-03-01T07:26:48.968372Z",
     "start_time": "2019-03-01T07:26:48.959765Z"
    }
   },
   "outputs": [],
   "source": [
    "train_X, test_X, train_y, test_y = train_test_split(boston.data, boston.target, test_size=0.3, random_state=42)"
   ]
  },
  {
   "cell_type": "code",
   "execution_count": null,
   "metadata": {
    "ExecuteTime": {
     "end_time": "2019-03-01T07:26:48.980686Z",
     "start_time": "2019-03-01T07:26:48.973042Z"
    }
   },
   "outputs": [],
   "source": [
    "# 学習用のデータの形\n",
    "train_X.shape"
   ]
  },
  {
   "cell_type": "code",
   "execution_count": null,
   "metadata": {
    "ExecuteTime": {
     "end_time": "2019-03-01T07:26:49.000817Z",
     "start_time": "2019-03-01T07:26:48.994407Z"
    }
   },
   "outputs": [],
   "source": [
    "# test用のデータの形\n",
    "test_X.shape"
   ]
  },
  {
   "cell_type": "markdown",
   "metadata": {},
   "source": [
    "# 線形回帰"
   ]
  },
  {
   "cell_type": "markdown",
   "metadata": {},
   "source": [
    " $y = w_0 + w_1x_1 + w_2x_2 + \\cdots + w_nx_n$"
   ]
  },
  {
   "cell_type": "code",
   "execution_count": null,
   "metadata": {
    "ExecuteTime": {
     "end_time": "2019-03-01T07:26:49.040888Z",
     "start_time": "2019-03-01T07:26:49.008454Z"
    }
   },
   "outputs": [],
   "source": [
    "#x1, x2などは各列(特徴量)の値です.\n",
    "df.head(1)"
   ]
  },
  {
   "cell_type": "markdown",
   "metadata": {},
   "source": [
    "学習するのは$w_i$の部分です."
   ]
  },
  {
   "cell_type": "code",
   "execution_count": null,
   "metadata": {
    "ExecuteTime": {
     "end_time": "2019-03-01T07:26:49.657309Z",
     "start_time": "2019-03-01T07:26:49.044500Z"
    }
   },
   "outputs": [],
   "source": [
    "from sklearn.linear_model import LinearRegression"
   ]
  },
  {
   "cell_type": "markdown",
   "metadata": {},
   "source": [
    "scikit-learnのAPIの流れは,\n",
    "1. モデルのインスタンスの作成\n",
    "1. fitメソッドで学習\n",
    "1. predictメソッドで予測\n",
    "\n",
    "です."
   ]
  },
  {
   "cell_type": "code",
   "execution_count": null,
   "metadata": {
    "ExecuteTime": {
     "end_time": "2019-03-01T07:26:49.663542Z",
     "start_time": "2019-03-01T07:26:49.660149Z"
    }
   },
   "outputs": [],
   "source": [
    "# モデルのインスタンスを作成\n",
    "model = LinearRegression()"
   ]
  },
  {
   "cell_type": "code",
   "execution_count": null,
   "metadata": {
    "ExecuteTime": {
     "end_time": "2019-03-01T07:26:49.674838Z",
     "start_time": "2019-03-01T07:26:49.666253Z"
    }
   },
   "outputs": [],
   "source": [
    "# 学習\n",
    "model.fit(train_X, train_y)"
   ]
  },
  {
   "cell_type": "code",
   "execution_count": null,
   "metadata": {
    "ExecuteTime": {
     "end_time": "2019-03-01T07:26:49.681226Z",
     "start_time": "2019-03-01T07:26:49.677642Z"
    }
   },
   "outputs": [],
   "source": [
    "# 予測\n",
    "predict = model.predict(test_X)"
   ]
  },
  {
   "cell_type": "markdown",
   "metadata": {},
   "source": [
    "## モデルの精度検証"
   ]
  },
  {
   "cell_type": "code",
   "execution_count": null,
   "metadata": {
    "ExecuteTime": {
     "end_time": "2019-03-01T07:26:49.687830Z",
     "start_time": "2019-03-01T07:26:49.684365Z"
    }
   },
   "outputs": [],
   "source": [
    "from sklearn.metrics import mean_squared_error"
   ]
  },
  {
   "cell_type": "code",
   "execution_count": null,
   "metadata": {
    "ExecuteTime": {
     "end_time": "2019-03-01T07:26:49.696827Z",
     "start_time": "2019-03-01T07:26:49.691130Z"
    }
   },
   "outputs": [],
   "source": [
    "mean_squared_error(test_y, predict) ** 0.5"
   ]
  },
  {
   "cell_type": "markdown",
   "metadata": {},
   "source": [
    "4638ドルのズレ☆"
   ]
  },
  {
   "cell_type": "markdown",
   "metadata": {},
   "source": [
    "## 重みの可視化"
   ]
  },
  {
   "cell_type": "markdown",
   "metadata": {
    "ExecuteTime": {
     "end_time": "2019-02-05T09:27:49.966424Z",
     "start_time": "2019-02-05T09:27:49.962477Z"
    }
   },
   "source": [
    "重み$w_i$がどの様になっているか可視化します.  \n",
    "重みの絶対値が大きいほど影響が大きいと言えます."
   ]
  },
  {
   "cell_type": "code",
   "execution_count": null,
   "metadata": {
    "ExecuteTime": {
     "end_time": "2019-03-01T07:26:49.703793Z",
     "start_time": "2019-03-01T07:26:49.700156Z"
    }
   },
   "outputs": [],
   "source": [
    "import matplotlib.pyplot as plt"
   ]
  },
  {
   "cell_type": "code",
   "execution_count": null,
   "metadata": {
    "ExecuteTime": {
     "end_time": "2019-03-01T07:26:49.711186Z",
     "start_time": "2019-03-01T07:26:49.706127Z"
    }
   },
   "outputs": [],
   "source": [
    "def plot_weight(model):\n",
    "    fig, ax = plt.subplots(figsize=(16, 8))\n",
    "    x = list(range(model.coef_.size))\n",
    "    y = model.coef_\n",
    "    ax.bar(x, y)\n",
    "    ax.set_xticklabels(boston.feature_names) \n",
    "    "
   ]
  },
  {
   "cell_type": "markdown",
   "metadata": {},
   "source": [
    "figやらaxやらについて詳しく知りたい人向け(https://qiita.com/skotaro/items/08dc0b8c5704c94eafb9)"
   ]
  },
  {
   "cell_type": "code",
   "execution_count": null,
   "metadata": {
    "ExecuteTime": {
     "end_time": "2019-03-01T07:26:50.160860Z",
     "start_time": "2019-03-01T07:26:49.714010Z"
    }
   },
   "outputs": [],
   "source": [
    "plot_weight(model)"
   ]
  },
  {
   "cell_type": "markdown",
   "metadata": {},
   "source": [
    "# データのスケールを合わせる "
   ]
  },
  {
   "cell_type": "code",
   "execution_count": null,
   "metadata": {
    "ExecuteTime": {
     "end_time": "2019-03-01T07:26:50.553358Z",
     "start_time": "2019-03-01T07:26:50.163840Z"
    }
   },
   "outputs": [],
   "source": [
    "df.median().plot.bar(figsize=(16, 8))"
   ]
  },
  {
   "cell_type": "markdown",
   "metadata": {},
   "source": [
    "## データの標準化"
   ]
  },
  {
   "cell_type": "markdown",
   "metadata": {},
   "source": [
    "特徴量の平均値を$\\mu$,標準偏差を$\\sigma$として,標準化された値zは,  \n",
    "$z = \\frac{x - \\mu}{\\sigma}$  \n",
    "と表される."
   ]
  },
  {
   "cell_type": "code",
   "execution_count": null,
   "metadata": {
    "ExecuteTime": {
     "end_time": "2019-03-01T07:26:50.558792Z",
     "start_time": "2019-03-01T07:26:50.555512Z"
    }
   },
   "outputs": [],
   "source": [
    "from sklearn.preprocessing import StandardScaler"
   ]
  },
  {
   "cell_type": "code",
   "execution_count": null,
   "metadata": {
    "ExecuteTime": {
     "end_time": "2019-03-01T07:26:50.566526Z",
     "start_time": "2019-03-01T07:26:50.561339Z"
    }
   },
   "outputs": [],
   "source": [
    "transformer = StandardScaler()"
   ]
  },
  {
   "cell_type": "code",
   "execution_count": null,
   "metadata": {
    "ExecuteTime": {
     "end_time": "2019-03-01T07:26:50.573043Z",
     "start_time": "2019-03-01T07:26:50.568687Z"
    }
   },
   "outputs": [],
   "source": [
    "train_X_norm = transformer.fit_transform(train_X)"
   ]
  },
  {
   "cell_type": "code",
   "execution_count": null,
   "metadata": {
    "ExecuteTime": {
     "end_time": "2019-03-01T07:26:50.577312Z",
     "start_time": "2019-03-01T07:26:50.574590Z"
    }
   },
   "outputs": [],
   "source": [
    "test_X_norm = transformer.transform(test_X)"
   ]
  },
  {
   "cell_type": "code",
   "execution_count": null,
   "metadata": {
    "ExecuteTime": {
     "end_time": "2019-03-01T07:26:50.583751Z",
     "start_time": "2019-03-01T07:26:50.579423Z"
    }
   },
   "outputs": [],
   "source": [
    "model = LinearRegression()\n",
    "model.fit(train_X_norm, train_y)\n",
    "predict = model.predict(test_X_norm)"
   ]
  },
  {
   "cell_type": "code",
   "execution_count": null,
   "metadata": {
    "ExecuteTime": {
     "end_time": "2019-03-01T07:26:50.589958Z",
     "start_time": "2019-03-01T07:26:50.585785Z"
    }
   },
   "outputs": [],
   "source": [
    "mean_squared_error(test_y, predict) ** 0.5"
   ]
  },
  {
   "cell_type": "code",
   "execution_count": null,
   "metadata": {
    "ExecuteTime": {
     "end_time": "2019-03-01T07:26:50.933250Z",
     "start_time": "2019-03-01T07:26:50.592005Z"
    }
   },
   "outputs": [],
   "source": [
    "plot_weight(model)"
   ]
  },
  {
   "cell_type": "code",
   "execution_count": null,
   "metadata": {
    "ExecuteTime": {
     "end_time": "2019-03-01T07:26:50.984639Z",
     "start_time": "2019-03-01T07:26:50.934882Z"
    }
   },
   "outputs": [],
   "source": [
    "del model, transformer\n",
    "gc.collect()"
   ]
  },
  {
   "cell_type": "markdown",
   "metadata": {},
   "source": [
    "## データの正規化"
   ]
  },
  {
   "cell_type": "code",
   "execution_count": null,
   "metadata": {
    "ExecuteTime": {
     "end_time": "2019-03-01T07:26:50.994273Z",
     "start_time": "2019-03-01T07:26:50.988993Z"
    }
   },
   "outputs": [],
   "source": [
    "from sklearn.preprocessing import Normalizer"
   ]
  },
  {
   "cell_type": "markdown",
   "metadata": {},
   "source": [
    "正規化された値$z$は,特徴量ベクトルのノルムを$L$として  \n",
    "$z = \\frac{z}{L}$  \n",
    "と表される."
   ]
  },
  {
   "cell_type": "code",
   "execution_count": null,
   "metadata": {
    "ExecuteTime": {
     "end_time": "2019-03-01T07:26:51.005305Z",
     "start_time": "2019-03-01T07:26:50.997935Z"
    }
   },
   "outputs": [],
   "source": [
    "X = [[4, 1, 2, 2],\n",
    "     [1, 3, 9, 3],\n",
    "     [5, 7, 5, 1]]\n",
    "transformer = Normalizer().fit(X) # fit does nothing.\n",
    "transformer.transform(X)"
   ]
  },
  {
   "cell_type": "code",
   "execution_count": null,
   "metadata": {
    "ExecuteTime": {
     "end_time": "2019-03-01T07:26:51.012810Z",
     "start_time": "2019-03-01T07:26:51.007362Z"
    }
   },
   "outputs": [],
   "source": [
    "np.linalg.norm(X, axis=1)"
   ]
  },
  {
   "cell_type": "code",
   "execution_count": null,
   "metadata": {
    "ExecuteTime": {
     "end_time": "2019-03-01T07:26:51.022352Z",
     "start_time": "2019-03-01T07:26:51.015459Z"
    }
   },
   "outputs": [],
   "source": [
    "np.linalg.norm(transformer.transform(X), axis=1)"
   ]
  },
  {
   "cell_type": "markdown",
   "metadata": {},
   "source": [
    "-------------"
   ]
  },
  {
   "cell_type": "code",
   "execution_count": null,
   "metadata": {
    "ExecuteTime": {
     "end_time": "2019-03-01T07:26:51.027358Z",
     "start_time": "2019-03-01T07:26:51.024507Z"
    }
   },
   "outputs": [],
   "source": [
    "transformer = Normalizer()"
   ]
  },
  {
   "cell_type": "code",
   "execution_count": null,
   "metadata": {
    "ExecuteTime": {
     "end_time": "2019-03-01T07:26:51.033653Z",
     "start_time": "2019-03-01T07:26:51.030116Z"
    }
   },
   "outputs": [],
   "source": [
    "train_X_norm = transformer.fit_transform(train_X)"
   ]
  },
  {
   "cell_type": "code",
   "execution_count": null,
   "metadata": {
    "ExecuteTime": {
     "end_time": "2019-03-01T07:26:51.039557Z",
     "start_time": "2019-03-01T07:26:51.036151Z"
    }
   },
   "outputs": [],
   "source": [
    "test_X_norm = transformer.transform(test_X)"
   ]
  },
  {
   "cell_type": "code",
   "execution_count": null,
   "metadata": {
    "ExecuteTime": {
     "end_time": "2019-03-01T07:26:51.049290Z",
     "start_time": "2019-03-01T07:26:51.042388Z"
    }
   },
   "outputs": [],
   "source": [
    "model = LinearRegression()\n",
    "model.fit(train_X_norm, train_y)\n",
    "predict = model.predict(test_X_norm)"
   ]
  },
  {
   "cell_type": "code",
   "execution_count": null,
   "metadata": {
    "ExecuteTime": {
     "end_time": "2019-03-01T07:26:51.061648Z",
     "start_time": "2019-03-01T07:26:51.053185Z"
    }
   },
   "outputs": [],
   "source": [
    "mean_squared_error(test_y, predict) ** 0.5"
   ]
  },
  {
   "cell_type": "code",
   "execution_count": null,
   "metadata": {
    "ExecuteTime": {
     "end_time": "2019-03-01T07:26:51.413204Z",
     "start_time": "2019-03-01T07:26:51.065073Z"
    }
   },
   "outputs": [],
   "source": [
    "plot_weight(model)"
   ]
  },
  {
   "cell_type": "code",
   "execution_count": null,
   "metadata": {
    "ExecuteTime": {
     "end_time": "2019-03-01T07:26:51.457070Z",
     "start_time": "2019-03-01T07:26:51.415060Z"
    }
   },
   "outputs": [],
   "source": [
    "del model, transformer\n",
    "gc.collect()"
   ]
  },
  {
   "cell_type": "markdown",
   "metadata": {},
   "source": [
    "## 同じことを何回もするの大変なのでこれ以降はPipeLine化する"
   ]
  },
  {
   "cell_type": "code",
   "execution_count": null,
   "metadata": {
    "ExecuteTime": {
     "end_time": "2019-03-01T07:26:51.473653Z",
     "start_time": "2019-03-01T07:26:51.460348Z"
    }
   },
   "outputs": [],
   "source": [
    "from sklearn.pipeline import make_pipeline"
   ]
  },
  {
   "cell_type": "code",
   "execution_count": null,
   "metadata": {
    "ExecuteTime": {
     "end_time": "2019-03-01T07:26:51.479044Z",
     "start_time": "2019-03-01T07:26:51.475950Z"
    }
   },
   "outputs": [],
   "source": [
    "pl = make_pipeline(Normalizer(), LinearRegression())"
   ]
  },
  {
   "cell_type": "code",
   "execution_count": null,
   "metadata": {
    "ExecuteTime": {
     "end_time": "2019-03-01T07:26:51.489044Z",
     "start_time": "2019-03-01T07:26:51.480802Z"
    }
   },
   "outputs": [],
   "source": [
    "pl.fit(train_X, train_y)\n",
    "predict_linear = pl.predict(test_X)\n",
    "mean_squared_error(test_y, predict_linear) ** 0.5"
   ]
  },
  {
   "cell_type": "markdown",
   "metadata": {},
   "source": [
    "# 正則化項をいれる"
   ]
  },
  {
   "cell_type": "code",
   "execution_count": null,
   "metadata": {
    "ExecuteTime": {
     "end_time": "2019-03-01T07:26:51.494041Z",
     "start_time": "2019-03-01T07:26:51.491128Z"
    }
   },
   "outputs": [],
   "source": [
    "from sklearn.linear_model import Ridge, Lasso"
   ]
  },
  {
   "cell_type": "markdown",
   "metadata": {},
   "source": [
    "## 正則化項とは?\n",
    "- 重みが大きくなりすぎて過学習に陥るのを防ぐ\n",
    "- 相関があるデータに対してパラメータを推定できるようにするための制約条件\n",
    "\n",
    "式にすると,今最小化したい関数を$Q({\\bf w})$とすると,  \n",
    "$ R({\\bf w}) = Q({\\bf w}) + {\\alpha}\\sum|w|^q$  \n",
    "$ R({\\bf w})$を最小化する問題になる."
   ]
  },
  {
   "cell_type": "markdown",
   "metadata": {},
   "source": [
    "## Lasso"
   ]
  },
  {
   "cell_type": "markdown",
   "metadata": {},
   "source": [
    "正則化項における$q=1$の正則化項を加える.  "
   ]
  },
  {
   "cell_type": "code",
   "execution_count": null,
   "metadata": {
    "ExecuteTime": {
     "end_time": "2019-03-01T07:26:51.508924Z",
     "start_time": "2019-03-01T07:26:51.496805Z"
    }
   },
   "outputs": [],
   "source": [
    "pl = make_pipeline(Normalizer(), Lasso(alpha=1e-4))\n",
    "pl.fit(train_X, train_y)\n",
    "predict_lasso = pl.predict(test_X)\n",
    "mean_squared_error(test_y, predict_lasso) ** 0.5"
   ]
  },
  {
   "cell_type": "code",
   "execution_count": null,
   "metadata": {
    "ExecuteTime": {
     "end_time": "2019-03-01T07:26:51.857580Z",
     "start_time": "2019-03-01T07:26:51.512796Z"
    }
   },
   "outputs": [],
   "source": [
    "plot_weight(pl.named_steps['lasso'])"
   ]
  },
  {
   "cell_type": "markdown",
   "metadata": {},
   "source": [
    "## Ridge"
   ]
  },
  {
   "cell_type": "markdown",
   "metadata": {},
   "source": [
    "正則化項における$q=2$の正則化項を加える.  "
   ]
  },
  {
   "cell_type": "code",
   "execution_count": null,
   "metadata": {
    "ExecuteTime": {
     "end_time": "2019-03-01T07:26:51.868244Z",
     "start_time": "2019-03-01T07:26:51.859311Z"
    }
   },
   "outputs": [],
   "source": [
    "pl = make_pipeline(Normalizer(), Ridge(alpha=1))\n",
    "pl.fit(train_X, train_y)\n",
    "predict_ridge = pl.predict(test_X)\n",
    "mean_squared_error(test_y, predict_ridge) ** 0.5"
   ]
  },
  {
   "cell_type": "code",
   "execution_count": null,
   "metadata": {
    "ExecuteTime": {
     "end_time": "2019-03-01T07:26:52.222855Z",
     "start_time": "2019-03-01T07:26:51.870175Z"
    }
   },
   "outputs": [],
   "source": [
    "plot_weight(pl.named_steps['ridge'])"
   ]
  },
  {
   "cell_type": "markdown",
   "metadata": {},
   "source": [
    "# まとめ"
   ]
  },
  {
   "cell_type": "markdown",
   "metadata": {
    "ExecuteTime": {
     "end_time": "2019-02-12T08:57:41.876353Z",
     "start_time": "2019-02-12T08:57:41.858794Z"
    }
   },
   "source": [
    "- まずはどんなデータかを理解する\n",
    "- 機械にデータを理解させるための前処理をする\n",
    "- 良さげな特徴量をつくる\n",
    "- 過学習と学習不足に気を配る"
   ]
  },
  {
   "cell_type": "markdown",
   "metadata": {},
   "source": [
    "# Appendix"
   ]
  },
  {
   "cell_type": "markdown",
   "metadata": {},
   "source": [
    "最近流行りのlightGBMという強いモデルを扱ってるライブラリでも試してみる"
   ]
  },
  {
   "cell_type": "code",
   "execution_count": null,
   "metadata": {
    "ExecuteTime": {
     "end_time": "2019-03-01T07:26:52.429814Z",
     "start_time": "2019-03-01T07:26:52.224832Z"
    }
   },
   "outputs": [],
   "source": [
    "from lightgbm import LGBMRegressor\n",
    "import lightgbm as lgb\n",
    "from sklearn.model_selection import KFold"
   ]
  },
  {
   "cell_type": "code",
   "execution_count": null,
   "metadata": {
    "ExecuteTime": {
     "end_time": "2019-03-01T07:26:52.437442Z",
     "start_time": "2019-03-01T07:26:52.432008Z"
    }
   },
   "outputs": [],
   "source": [
    "train_X.shape"
   ]
  },
  {
   "cell_type": "code",
   "execution_count": null,
   "metadata": {
    "ExecuteTime": {
     "end_time": "2019-03-01T07:26:52.442836Z",
     "start_time": "2019-03-01T07:26:52.439452Z"
    }
   },
   "outputs": [],
   "source": [
    "kfold = KFold(n_splits=5, shuffle=True, random_state=81)"
   ]
  },
  {
   "cell_type": "code",
   "execution_count": null,
   "metadata": {
    "ExecuteTime": {
     "end_time": "2019-03-01T07:26:52.449038Z",
     "start_time": "2019-03-01T07:26:52.445549Z"
    }
   },
   "outputs": [],
   "source": [
    "params = {\n",
    "    'n_estimators': 10000,\n",
    "    'seed': 81,\n",
    "    'metric': 'rmse',\n",
    "    'num_leaves': 8,\n",
    "    'min_data_in_leaf': 15,\n",
    "    'max_depth': 7,\n",
    "}"
   ]
  },
  {
   "cell_type": "code",
   "execution_count": null,
   "metadata": {
    "ExecuteTime": {
     "end_time": "2019-03-01T07:26:52.456172Z",
     "start_time": "2019-03-01T07:26:52.452017Z"
    }
   },
   "outputs": [],
   "source": [
    "train_X = pd.DataFrame(train_X, columns=boston.feature_names)\n",
    "test_X = pd.DataFrame(test_X, columns=boston.feature_names)"
   ]
  },
  {
   "cell_type": "code",
   "execution_count": null,
   "metadata": {
    "ExecuteTime": {
     "end_time": "2019-03-01T07:26:53.955714Z",
     "start_time": "2019-03-01T07:26:52.459067Z"
    },
    "scrolled": true
   },
   "outputs": [],
   "source": [
    "preds = np.zeros(test_X.shape[0])\n",
    "for n_fold, (train_idx, valid_idx) in enumerate(kfold.split(train_X)):\n",
    "    trn_x, trn_y = train_X.iloc[train_idx], train_y[train_idx]\n",
    "    val_x, val_y = train_X.iloc[valid_idx], train_y[valid_idx]\n",
    "    \n",
    "    model = LGBMRegressor(**params)\n",
    "    model.fit(\n",
    "        trn_x, trn_y,\n",
    "        eval_set=[(trn_x, trn_y), (val_x, val_y)],\n",
    "        early_stopping_rounds=200,\n",
    "        verbose=100\n",
    "    )\n",
    "    preds += model.predict(test_X) / kfold.get_n_splits()"
   ]
  },
  {
   "cell_type": "code",
   "execution_count": null,
   "metadata": {
    "ExecuteTime": {
     "end_time": "2019-03-01T07:26:53.963340Z",
     "start_time": "2019-03-01T07:26:53.957794Z"
    }
   },
   "outputs": [],
   "source": [
    "mean_squared_error(test_y, preds)**0.5"
   ]
  },
  {
   "cell_type": "markdown",
   "metadata": {},
   "source": [
    "# モデルの分析"
   ]
  },
  {
   "cell_type": "code",
   "execution_count": null,
   "metadata": {
    "ExecuteTime": {
     "end_time": "2019-03-01T07:27:41.466435Z",
     "start_time": "2019-03-01T07:27:41.460210Z"
    }
   },
   "outputs": [],
   "source": [
    "feature_importance = pd.DataFrame([model.feature_importances_], columns=train_X.columns)"
   ]
  },
  {
   "cell_type": "code",
   "execution_count": null,
   "metadata": {
    "ExecuteTime": {
     "end_time": "2019-03-01T07:27:42.119216Z",
     "start_time": "2019-03-01T07:27:42.107660Z"
    }
   },
   "outputs": [],
   "source": [
    "feature_importance"
   ]
  },
  {
   "cell_type": "code",
   "execution_count": null,
   "metadata": {
    "ExecuteTime": {
     "end_time": "2019-03-01T07:30:09.343550Z",
     "start_time": "2019-03-01T07:30:06.291244Z"
    }
   },
   "outputs": [],
   "source": [
    "lgb.plot_tree(model, figsize=(50, 50))"
   ]
  },
  {
   "cell_type": "code",
   "execution_count": null,
   "metadata": {},
   "outputs": [],
   "source": []
  }
 ],
 "metadata": {
  "kernelspec": {
   "display_name": "Python 3",
   "language": "python",
   "name": "python3"
  },
  "language_info": {
   "codemirror_mode": {
    "name": "ipython",
    "version": 3
   },
   "file_extension": ".py",
   "mimetype": "text/x-python",
   "name": "python",
   "nbconvert_exporter": "python",
   "pygments_lexer": "ipython3",
   "version": "3.6.7"
  },
  "toc": {
   "base_numbering": 1,
   "nav_menu": {},
   "number_sections": true,
   "sideBar": true,
   "skip_h1_title": false,
   "title_cell": "Table of Contents",
   "title_sidebar": "Contents",
   "toc_cell": false,
   "toc_position": {},
   "toc_section_display": true,
   "toc_window_display": true
  }
 },
 "nbformat": 4,
 "nbformat_minor": 2
}
