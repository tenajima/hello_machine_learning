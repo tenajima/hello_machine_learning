{
 "cells": [
  {
   "cell_type": "markdown",
   "metadata": {},
   "source": [
    "[colaboratoryで開く  ](https://colab.research.google.com/github/tenajima/hello_machine_learning/blob/master/hello_mnist.ipynb)"
   ]
  },
  {
   "cell_type": "markdown",
   "metadata": {
    "ExecuteTime": {
     "end_time": "2019-02-13T05:43:02.610752Z",
     "start_time": "2019-02-13T05:43:02.606210Z"
    }
   },
   "source": [
    "------------"
   ]
  },
  {
   "cell_type": "code",
   "execution_count": null,
   "metadata": {
    "ExecuteTime": {
     "end_time": "2019-02-13T04:36:34.309408Z",
     "start_time": "2019-02-13T04:35:57.604955Z"
    }
   },
   "outputs": [],
   "source": [
    "from sklearn.model_selection import train_test_split\n",
    "import keras\n",
    "from keras.datasets import mnist\n",
    "from keras.models import Sequential\n",
    "from keras.layers import Dense, Dropout\n",
    "from PIL import Image"
   ]
  },
  {
   "cell_type": "markdown",
   "metadata": {},
   "source": [
    "# データのインポート"
   ]
  },
  {
   "cell_type": "code",
   "execution_count": null,
   "metadata": {
    "ExecuteTime": {
     "end_time": "2019-02-13T04:36:34.676578Z",
     "start_time": "2019-02-13T04:36:34.312753Z"
    }
   },
   "outputs": [],
   "source": [
    "(train_x, train_y), (test_x, test_y) = mnist.load_data()"
   ]
  },
  {
   "cell_type": "markdown",
   "metadata": {},
   "source": [
    "データの形はこんな感じ."
   ]
  },
  {
   "cell_type": "code",
   "execution_count": null,
   "metadata": {
    "ExecuteTime": {
     "end_time": "2019-02-13T04:36:34.696911Z",
     "start_time": "2019-02-13T04:36:34.679650Z"
    },
    "scrolled": true
   },
   "outputs": [],
   "source": [
    "train_x[0]"
   ]
  },
  {
   "cell_type": "markdown",
   "metadata": {},
   "source": [
    "よくわからないのでライブラリを使って画像にしてみる"
   ]
  },
  {
   "cell_type": "code",
   "execution_count": null,
   "metadata": {
    "ExecuteTime": {
     "end_time": "2019-02-13T04:36:34.881310Z",
     "start_time": "2019-02-13T04:36:34.700924Z"
    }
   },
   "outputs": [],
   "source": [
    "Image.fromarray(train_x[0])"
   ]
  },
  {
   "cell_type": "markdown",
   "metadata": {},
   "source": [
    "答えも確認する"
   ]
  },
  {
   "cell_type": "code",
   "execution_count": null,
   "metadata": {
    "ExecuteTime": {
     "end_time": "2019-02-13T04:36:34.891986Z",
     "start_time": "2019-02-13T04:36:34.885642Z"
    }
   },
   "outputs": [],
   "source": [
    "train_y[0]"
   ]
  },
  {
   "cell_type": "markdown",
   "metadata": {},
   "source": [
    "# 前処理"
   ]
  },
  {
   "cell_type": "code",
   "execution_count": null,
   "metadata": {
    "ExecuteTime": {
     "end_time": "2019-02-13T04:36:34.900198Z",
     "start_time": "2019-02-13T04:36:34.896130Z"
    }
   },
   "outputs": [],
   "source": [
    "# classの数,0~9なので10\n",
    "num_classes = 10"
   ]
  },
  {
   "cell_type": "markdown",
   "metadata": {},
   "source": [
    "## 入力データの前処理"
   ]
  },
  {
   "cell_type": "code",
   "execution_count": null,
   "metadata": {
    "ExecuteTime": {
     "end_time": "2019-02-13T04:36:34.908570Z",
     "start_time": "2019-02-13T04:36:34.902712Z"
    }
   },
   "outputs": [],
   "source": [
    "train_x.shape"
   ]
  },
  {
   "cell_type": "code",
   "execution_count": null,
   "metadata": {
    "ExecuteTime": {
     "end_time": "2019-02-13T04:36:34.918469Z",
     "start_time": "2019-02-13T04:36:34.912016Z"
    }
   },
   "outputs": [],
   "source": [
    "test_x.shape"
   ]
  },
  {
   "cell_type": "markdown",
   "metadata": {},
   "source": [
    "bostonのときと同じように(データ数) $\\times$ (特徴量)の形にする."
   ]
  },
  {
   "cell_type": "code",
   "execution_count": null,
   "metadata": {
    "ExecuteTime": {
     "end_time": "2019-02-13T04:36:34.926564Z",
     "start_time": "2019-02-13T04:36:34.921443Z"
    }
   },
   "outputs": [],
   "source": [
    "train_x = train_x.reshape(train_x.shape[0], train_x.shape[1] * train_x.shape[2])\n",
    "test_x = test_x.reshape(test_x.shape[0], test_x.shape[1] * test_x.shape[2])"
   ]
  },
  {
   "cell_type": "code",
   "execution_count": null,
   "metadata": {
    "ExecuteTime": {
     "end_time": "2019-02-13T04:36:34.934851Z",
     "start_time": "2019-02-13T04:36:34.929318Z"
    }
   },
   "outputs": [],
   "source": [
    "train_x.shape"
   ]
  },
  {
   "cell_type": "code",
   "execution_count": null,
   "metadata": {
    "ExecuteTime": {
     "end_time": "2019-02-13T04:36:35.134712Z",
     "start_time": "2019-02-13T04:36:34.937753Z"
    }
   },
   "outputs": [],
   "source": [
    "# データ型の変換\n",
    "train_x = train_x.astype('float32')\n",
    "test_x = test_x.astype('float32')"
   ]
  },
  {
   "cell_type": "code",
   "execution_count": null,
   "metadata": {
    "ExecuteTime": {
     "end_time": "2019-02-13T04:36:35.176773Z",
     "start_time": "2019-02-13T04:36:35.137415Z"
    }
   },
   "outputs": [],
   "source": [
    "# 数値を0~1の範囲に変換\n",
    "train_x /= 255\n",
    "test_x /= 255"
   ]
  },
  {
   "cell_type": "code",
   "execution_count": null,
   "metadata": {
    "ExecuteTime": {
     "end_time": "2019-02-13T04:36:35.196555Z",
     "start_time": "2019-02-13T04:36:35.179525Z"
    }
   },
   "outputs": [],
   "source": [
    "train_x[0]"
   ]
  },
  {
   "cell_type": "markdown",
   "metadata": {},
   "source": [
    "## 出力データの前処理"
   ]
  },
  {
   "cell_type": "markdown",
   "metadata": {},
   "source": [
    "出力データは入力データの1行に対して,0の確率は何%で1の確率は何%で...ってしたいのでラベルも対応しやすいものにする."
   ]
  },
  {
   "cell_type": "code",
   "execution_count": null,
   "metadata": {
    "ExecuteTime": {
     "end_time": "2019-02-13T04:36:35.206708Z",
     "start_time": "2019-02-13T04:36:35.199436Z"
    }
   },
   "outputs": [],
   "source": [
    "train_y = keras.utils.to_categorical(train_y, num_classes)\n",
    "test_y = keras.utils.to_categorical(test_y, num_classes)"
   ]
  },
  {
   "cell_type": "code",
   "execution_count": null,
   "metadata": {
    "ExecuteTime": {
     "end_time": "2019-02-13T04:36:35.216268Z",
     "start_time": "2019-02-13T04:36:35.209243Z"
    }
   },
   "outputs": [],
   "source": [
    "train_y[0]"
   ]
  },
  {
   "cell_type": "markdown",
   "metadata": {},
   "source": [
    "## validation dataの準備"
   ]
  },
  {
   "cell_type": "code",
   "execution_count": null,
   "metadata": {
    "ExecuteTime": {
     "end_time": "2019-02-13T04:36:35.425239Z",
     "start_time": "2019-02-13T04:36:35.219856Z"
    }
   },
   "outputs": [],
   "source": [
    "trn_x, val_x, trn_y, val_y = train_test_split(train_x, train_y, train_size=0.7, random_state=42)"
   ]
  },
  {
   "cell_type": "markdown",
   "metadata": {},
   "source": [
    "# モデルの作成"
   ]
  },
  {
   "cell_type": "markdown",
   "metadata": {},
   "source": [
    "![ニューラルネット](data:image/png;base64,iVBORw0KGgoAAAANSUhEUgAAAR4AAACwCAMAAADudvHOAAAAh1BMVEX///8AAADNzc2hoaHGxsb09PTf39+pqan6+vri4uIyMjL5+fna2trm5ua1tbXT09Pu7u6Pj4+/v79OTk5ZWVlAQEDHx8eamppUVFSJiYnw8PCxsbGTk5NhYWFoaGhLS0sgICB9fX1wcHA9PT2AgIAqKip1dXUxMTEODg4bGxslJSUNDQ0cHBx2FrmeAAAf4UlEQVR4nO1dC5uiPM+mKOKBk4jiCVA8jDr7/3/f16QF2lK0o87OvM+3ua5lZ0akbZreSZM0WNYvoH6M/30WZxJe6WVhWbPxGehj+cNd+3HaHldZtjquAotkWxJe6IWypyi26Xab3hY/3b2fpsJxgo3jzM8WWXkkhAuwp/QPAzsZOD/dvZ+mxLJiuriWe4sk297aTae4uMjZXa7ccfHT3ftpWjL2FFR6XCvLsr4F7Mncohwn5en/Pfbss7wo8qx0LbIpsnCTMvYsZkdKH+lPd+8XENdcZJMki14P2TNzelMKzacf7tmvoDjA/8jmeM2XQUT6VupZ52K2PJAf7tmvoIo9PQvE6OPgr7eOlbvuZv+PPZQcpr4Ha/zPj6xJZFmRR2nwk936R//o+8gZ1j/6Pv4XDTyU+dFPden3ULxdHutfij7+d75sXAqZ2TsgczSd2uwymG6n6xFcBvWFNl9dgu30F+4tIj9lXBhS6Ewofk4s63gpk7LM5uEbnj8ZUSx2BngZDYbKhQpqcxkNHz/u79OGsccr93Ny3OdkYB0P4cdi8WH33/D0yDe+1fuF0mM543oNufSnCNhDjoM0HRzfsbjijfGtq9+IdfHWmk/Yj9SKtQZ0/3MeEEZveHw/ML51ai5o3bReNz+HEf438EIg7ynuXz2rZLuhSepw9nhZTKl8x07xr0pPaqNtXjX5h9mb41mw2WyCw/yJJ25hyvY+oOKHSy/hlrJn6B7m8+LyjtmcTIxvdV6GZtiwxOg9sZwomiwn0ZrOeDEul2WeHMx7UtPWg2ucTa31qUfRJyYhtNA7pumKvIM9f5XIOV6t4hjEpL9fnW6rFRgnRdY/9TdF3/7y846VPPvWGdT4lnjWcO9YaZHnS/IOqAzNO7WJXm3sU8LMPWXTAthDXP8c+8lvdLrFKjSHnNq3Tl+ejozyA6wRhjk5/RfQ2clCxrTk1cd/AynQ7G/5BJNta+m+DM3xjLlseyX8NupZ7Ncsni76fXv2G+MhQwlvsyup6Zoptz4BnTLtC+7R3ltgwIGAurE1LK3V6ePjf8DpllOu7Hoppd4f+mNpbhMZ0fHmuuez657oLnJAFtbadan2XflW2eu55y+yp0iWGyucLQPpkhRRffGtdFm8iJehINIZCA33ffm9lt35MjTvT2gAeh97uoipSh6eiWONqPVWZnle/ErpEaB5T/khyMuGcisRt1mvQ/M7yTW6K35xSvuz6YrRtCBEatOn7BLV/u/ac5npue2rjuBjA8ZE2aVs5OX1u/wZquLQ06vscZacNVNCTp7yIf0sfu3x30d/hT2rQ8Udi5CW2bqU/uY+v4mp9YovK5eIKRe8bJdJbq2ebuLtFNvSsiJk1rqFkMLuc7LzlzcVj8lMJoB6Rnc9C83DcwU6Lv1HJy3VsGdIJDof92b6okWeqd/XfN/1jYsrCviAcRvoIiQfH7OHUzD6coyktbN7nb6NPa77gcOcb1inPSan+sV1gKAIxEVmEovcXvqVhr+BPbnRXenXJnJiHZiq2pE+mnx2rZo00HwmpO5FtRZPF/7Dx2xWHA3daX1TBXh8fMu3kRNvKj1Vd6PxNRMyVnFsJto9Jftq3z+upqIgpXH8vr22OTS/nXoJG89VdIE1Yp+2+GNfJbPwzL4OghDatiuyaH8u3xF0+wp73mo1e6MdG0ihWMbexhsdcAV5N8UIjIm8qYgrZtT2T5plmcilkefpFakx9kwN73srNG97FaJulFBe0APIZTMP6CIskwUwUxptxZ9TKuwv3M0mEDi07KXbdge+AZrPRnf1HkHz0B4zy3j8x1Gmdjib4yc3/uuYkMvHGoc+dPrwFbmpCKCrDw5jRceto/ViNx5XLDrMD8eJI06EMTTvDe/T0Sig9DVNFceMAx9bjZVZSUO1WIaovMs4CGLE4Zm8CZ36oxPlpUMvJNGJQzDdriTMDpowt7NRVFxfO5bnoXmT40jnubnlmpXVotJvl9iuYl9zYR2KSPKhLMTpyIoAmteo/zqM+jD0cuEZZVmyEftEHLmblyCE8zJTsMGcPbIVMhA7bjerZNqBPcNwwW8+dza5xs8vKPiUM4BAg7zC2rz1YPAWjoDXVow33VPnWVnOxR6nIKmVVvDET8K1+D0NbnW1IPw8md5wxuKYgWxRS2oHNAdcC5M7QeKIYdIBfqbriptCwwCpAywcYIzFPIvkfojMpw8hMq1QB3jMsKzGMnvOjySiFAzkskZhdxx4+kf1TA00R84Sdw3Xw37SnXMyRNnxdoTKxHpF1f5DVZD6vCsQhzlSBLpcH43McZzFeC7IUTixYAGfyiH0zFl/XPj8cDLTRwqBNKY1fPgpAEbXvW6lZlf3JxcRIrTCxBoxW/phthDzNcOUl5QtTgGSZ5bAEKRutRU5QPcODTgo5sMz0AzSqBpsO9Wzh+QnFXQMtJ83hNzxQLWVXCE/7AZ3xcPkAF6sEdhLsyFUcxaPoGFRpmXj8xlobpn763GNcwI0hyHbbf7ZP9zYDYGLOPOhPZkbsifgfQB1iKKMIJKbBOn75Hw+Y3uUp3N5xffEts1zcvJ+dS/ljqKYAVXZTzU0r6YswJ/1H+9+NrmgRyy2tszNBVjqzPgPQZKIgUXcr7Ega5kE/oe+cf8+Dm23ZHeJhhBubXtiqAHH5hJjc/6I3JgWOJj4g3sCO+iOHcdokO5RR929a73Ye3O+SO+TXRsBGrdJKWQfCGvVI3+ojYU/uhoKEEbOMTjED+oj6Yzf0FEFl8q/4JqJpsgdq9+HX/d1dPQONWHAVEDyzIg/NWnYY4Fnjjvd5s34cVRjl93QTdlO13flpk+y9A23G+CJyGshswGYcwuSdB9Rwx6Hru0aRIE/J+Pzghr26F22FS1n3l32AOmakchQgVCRhZkX9ENIBI8gJ0dvEwaCelgKpkUEHJ7fdYnFsRVjtOPjy+yBlddv02LJDN9dSJd329amHYIQi33esIyczAxambIR/pBo7ME5eeh2AXVc60cf1fa9ENWiKOvR6thTh4sWzfi5vy3o6921OczzkqpNugtuye6y6t12xKGVWg/r1jNUAlk5COyYgCnQ0jz2QbvSIvGvdFJ2Tb/7yJ/u1R3H3Bs307BnIIizIKCgIOfd87RYkQ0TCY3mSqoFBzu6al6KR6Ex4I5kQW103OkiefgwaY0B00dPRucC8x2mWfOhJlQ9F1gm8C4kqXtvwtfVQAg34RqSkwNwb47brOLuWA8whaKo+ruv2DtyAgu4EHbC7ytqdl3mHeOxCzaBLpjPin6FlVlPmeBBHt5XNQ0jYdKle4XUErSa8YaQhVr6XbvQNexrD2L/YYQ383CVEpC1L4pCB2fap8buGsaVH7FnhVuizkgpqoov+LLqn5xE0S7wRM4FZjUDf0LLxk1F0rHEwID7lEYIC+KF3GjYs4sWuoP8b+tQVDE3b0wVjE3yXFnPGXnkGdGTGKm4EMEWl8w6vucas5Xvsx1pvx0vcP6QyuVeEVUNp2jyGM8r8hUVMoT1LMnqCDI3E0kefaaAwIicRqjuIJxUey8H9eaPP8G4N6KDATmy3dK+TLaoqOr1G7L+ralsXOCHeI8YpFoC21mLOwE+Rucu8/U6uqWZorkKJF6PiBNpDVOE5HQD7EAp2jN52fXoF53tVr7dNHoFJM2Vgw6I8XyOHr6b0IHqB8Kto6GDYd5DIH5/39YrMTNBdCGWE9Fu+du5hUfSAloUlh5vewvydQUcGFouAyDQ1EzE5/OxMhbrK+xR7INp7XM7iMZA7dCAueGzbrN4QVwLPnx2VBb4mSHiQLO/9/UOkbi9DsHYU/R0gAYg/NHGXdMJBCcOHNb9T9bpKumqZdiYnw9SPUO+h6rp6Elo2viaz4Ky9zAks+QTsyekZQfDIN6QGHfWmKwg6LfcyTGFHJcVyOiE6XY+ltA7tcfyJTKTM8EdRmXmUAtMxMIpVBm76vrm9zJ0X5unT6nQDARLtOXhG1aKvKgmpWbPI2+guZlhpu3EA55Estj7DKRTopGdqKhAQwvN+sWl3TRQgB+3xuQwSVnWffN9FmJ8aEeYY4/ZwVZxRmEqxSN1wzEz5VveoknDsZegGQiEU/5g4t3Y0YyyHsIQYy39wfV97NGl2UUtq1IKA9Kd4UVCShZJOgUyq/1To+V1LvsOxd7XmkgD+jCpgo3DQtGIyxXv4/21tSNrj4WSeaqCbpmeWgEcOQwIelT4A/KBLTHxrk1b37xAayKZwVtcWMnQQv5w9LcbVK7pppdRU9LJ2aDFMzmIvP4Qu+EzAGB+o7iW61hUWpE5NI868uS8Bvp9Fhc9s4fOarSBWIsKFp5u/s1n7evQDP27NDb6ADbosEO10SIo+GSBb2ZeM+UNJ5GrwDL3GzYWFnqTxkfEpw+zafjuE4HraiodmNRr1Sn0ZVxc+HUv5e285Rx7ht7cKIdQ0kEELpgtkgB6G0aHzcOAZkZbqOJlzviDM3dqBoSeBPLpDo/yMaS3nGN3YPyoBj57sjQPeF6aqS/cPO37y2YhpxzdVGi2S6xju/lCsREdjf3Q4UxddwczquS8XlvADAP4nMyR8Fn2gPoql7ouRWgokrHINV2JkQ5X/KA7hdnGpNdcK4ksVGCbGejm+a26O0ctIdUU7ORTqVucLCVqLlgHusXVEcjpXFwxD0NodwQ+235e9s5S3p0NdAvuNWhu2z06AkV11YmzQzXL7iStgtehOUJlno31EwLGRWrxTZiELFq7xxyadf2OWmFiTfQG1fhcNxaw1EIMBJILx9CXobnHlDk+WzMlCRryPGdRClL4upD390Mz9PMi6PSGwisbAdfACDAvlhhhKQhgRk0O7XArc0nSieq7LMvzYRKAuWv3OfagK2wKEZqreqvX9M9nDrNg9Fr1J5bAsuIysWznrG24SMULXj/gUSTC3ClvZl+P5D4vmKTjklegIKQidalFioV95vswMM45ai2ukuWDVr8CL5TNLGXKDJMI69oTD9p4HpojbzQnvYF3z8MGsszc8CD0MqxshYRN1hUO0sN50vwdW3EHusMRCjSjlXAQ5YXK0kmarVLkxyoDizVhi9nzQm0rT0PztvY1z8UwxEJsALZTM9bBSaJMVSrutBixtbHLBdDoaAVJkh4WEQlkjsmBZeQOewp3mwSb4AzD8tOuVp6FZjQtTuMxznjZ4Kng0Ig+PkV3mAwFKSEaReqUPDUgF1ohvJWxAhTNwIc+NEVuqqYCdNs1dzVY1zjdhpNqUWpbMS9uJ7EH+n2FuoqT6R9pwTfQjNs/gfvQu3ojCB3X7ntC5jEnOXQMpP+6pRPqsBNtMn9qaMbETZJporGgnyrMhJzBarIknyS08qejFXNoFlUSpkryPwyk4h+1f3wNc3EQuT8V+FN07Zn7ITfZfLkVlhYjoVe1uFyMVXtaHbxo/JWA1JXlL+4ngLe9qpUQMEDg3TPQPFEirTCORLFXIEC7U0DbpX/CQWCQSb9TaM6yO0ellQwSToTfEZojti/JO/QD2OUsCaQPcXXNHXulFeDPM3nNzTNCohhUQoYGD6djYK1lIRKekhGQzjSe/jmGExRUIsdLNd5TyoEXkB4WzTt3O1vAIwZP6Uur2asZRfWi3MqwFM3JL5xjH1biS1rZcy6R85pxw9y2+UO2DEfd3LGGHA2didtqJSBKiZH1Hr1q9w1tNpd7yUEf18GAdn6PlKskgMPw/ga/nBJ+RIyKqbp9T0T2IFSmOknGxJYR0Zn7NY2DTVcrhbQkByzZIn3glwAtMlqJUS7Knv6hbqUVkpzr3UEh6d2zjEsKjsskRIhtBWqLykDdjlCFd1nrVGPtAA469zJhSCE9Cy1tSq0n/i1CGyB9vAmhgpMoXOgvbnUr85ZPXkj7nkp//siYPNsa8pgRsvOKdpQTmwnhrpB5Sc+e7hG23WewG4T6j+0wZSkmt9DuKDHCv8nPawzCric1j2SRkYPYo9BD8+EErWgzU6tWiuY7/Mw9RFjIA2pP0aNvPEOGNTRepK/mNc+Pdwd72ulC0+/sMLay/BvsOekSdx+xJ7R6GpqzMxW9QaKJklMFcHPpTW42dVHXrlzdM3r1AXb9p/QBGzyIlnodpx0O1Td5Fva580n1E1l208dG+Nt+fzVspfkO+lzGbpcL5AygAkaxrz+RwySKQiWEUdoM5A+hiAjWc0cbFJo9EM6BpYXmvWj4MB9RK9jZIgi6U8j7FG2jvv3nbis1NAumBeyDgjtaMjjzoH27+EdzngsJTN+xRjlNYJvgwka6pS4qiuNV3UrrpNVYamXrIzxnD4Iy2BdPfdqRt5K0FXsh/EkwQ/3z3aMLzVNS6fQlUGPCsWRj4M+s/TRIXE5ZlK7ryIxUYkRhoiuL3cp3+MH3e+EWzHfFXGPhu031p4V4jBpJKmTyTPUn4XhZ3caVm0zcoYH9VjedwBbkGYbVO5qp6xbkYNdIlR2Ixl5jZY5OnYYz7GRxM5GJtqhcPPJTbeWZAjeCnMFmUQhAAi8qV07l77GnLf6MIF0jrL5x7TBBa/aw8yiNlEIrqgMNiNWP6MgtdyruYLC/5o/AHk0rTxU2FfYBE3BW7BycsslkfhVOwzTVnwDJJYeXmMYT0znT8icMeA6QjWnu9MGsFQdauUnOVz5Bkwh1XaHdliYNmPcEYRRLjCBQ8tnFVk5CK8+l/AxZsp4bx0y/znXCrXhoYjGuhLFKDX/CykcOUjZZ/ZFaUUCiSZ5b7PHztjUGIlwLCp0ebbJc+Mlb6aMgFuIcmDs0pI1tJNQYpGu1kUbR2yvmY+GaFhqLiMZdOCmr+swcOqXqFrYi86KvGZdk6/wEeDMEO4XUKlcuuX6nkMnzhfncDKPVB9mJKSfPgZCx/sFAJVsIUEHJ8GebOvrYXaOK6lYeRaQSPCG1Fb0okdLEoFYpUMTa8rzBik9Ej7VCkuTpJL62nA02lBSfl8yeIehTdG3slWrC6HYSTQ4WS4YTYP5VkgJdKzpi5yfEgxqZuoC9T677+nmaptLt2Ir7QpXa56o/LRkoHEnb/KL8+ah+Hi7RPXELoWrc2iw+0Ere2QCWX+vgWdCGoznDfDz7xZbSgzZeqf5kRCA/nwAN7eO54BzFsbDTDng89ysZGm135BRVxh4lZEPa/myQZn7mlXSguUzfXpjP4fCqyU0GSKS7tyGP3WBg5gtFz3Rp3xFzKAFbTnIMkJFb9YQ5gfaPVtOz1Z8YbYlqz2uyw/BUpDYiApk4Cetoxif65dd4hOzwxqjUudOYtZFWGVnSzqY9FuvZ6k8V7Vviq6n+tEb80arIqhzT/J2F8oKqKI5WC9F1nrBTbcraO792IkiLUq1tuab604IVNtVsslg+/2UcNjK+MO9jp5t5iAFactRKFy+FlQ8t1a2i838/Vf3pSwQIswUrcqkgAT8FJ4v4a9BcEZfKQMNAjGHi7sukyMe3QzNw57IWUlk4TZL6DSYiR16EZv7s6gDXvC3yzP4zRbjXoLlNLWim6xzTklGl1Ds8mwFoHqM5LVjEOmie6kfT7bpjAWPM9ijlr+7BMoIlbTAUIPPqT8/VTG3SeFDgmYvMY8tqDjjjKEF/DR2Ns7QZ2Xz1MJNiJfQIU9AWkB1hVtr9C6Tb27cLJyj1LLeixTNlv0QspWleKZZE3KtqsUfv7Gq/c4kRcIUHjFkmZrUHD2Brju9S1Vmp2iIQZjW8u6hUi2koBN5TAfxBtHnt6bL5YuOyst4CzVLAuPfBzXEec17xfrcN5lwnw69Bs/ughtVcSQ6tX2Hii1osFZj4OjRvibRPZ5VGl7YDSFRnV5/bRmNPV67sO6F5XSjpugtmIV9UpGXuciTjVyR0QbNTqBuY6gyBwBFM3J2tLf/R5tccor4OzbEMul4lOy32YOzjTe+obXGHEg/IN4nQcQyGRjhtH1p+mszehyJA86CqnovEj3os2f8KLwaf1d902DPR+6i2usUFWNwKNNSx2apzdh8k9vPxwaXXsMe/4xAA31O9Ee0zyYH3s+FO4qR8sU7F1LEn06fD6LAHYkw62aSaiglQ03U2Xc1dI91YzNnT0q7LYjYez4qZ9Em9e/JBIPg2Zj1nG50I7xzCDF+VHQ41ri+Yzq9hz0bvltGwB6ZE3bRBKThyca0IdhO3egcTfIrsmeFYZmph/6fPsYfiuyGE+aqhuVf7vWNmIe8bQR78aSlWLFQQfwmaNa/joc9Q6myys8jMfDmy5Agbk+eY8HzeG4v1XPUnS3Hui8+soHlTHZjwmLaSX9YOuZpKXAH6+8xbiEUCy0bhGXDhT+URYBX7KDbRJeywN89sxGRYoGtpfiZIJFHOMArMsXolZeFy6Un5lA1YJ9QS7NYI5Gcp++rmsCdzdJkLeolqlRhJVcwfophK/mQmKBvoL0r1npWyqPROcpOf8VT1J4zn1uMA86aWH179iXGHHXQgpcaHg3EFGfhAIo+hxgxP9Dsk9UQOVOIoJY6jwaN4NTao5KnRvjlNelAPnf5WNHMSyuvzmepP8Iib+FETPOfQDHng7EwF+bx2nBgGV3kifQQze9OwMlBXDL9dYU+iuGwDWFi3lh6beBgU2STk4jjZ+KKIVyiuhaegGTY1kmDDIXUunrC4sAzBjGHOsduyQCCQdoYdBxw7SK7+hI2Kag9TJfUOierNRQXjhixeUjlr86ObeVDt2dvNNo8EaPZrnDvcDTriHlHUDRDWfBaeB/KzfFSXXQlL3E68LBDwZOlej/XeoNH9XVW+rUpLafzqs8riotITcd5k+UNgOytDAFDrSLtrkwTNviSJmA3WmWIFryFkKoME3NwSaSVszgSVQuXs3mubPLA7x1sXRLM1hH71yBEeDII7jbbeWIBNgAebiAH2+yRBM6BwMxaA30vcvYuLqm0G0YWYxOLPzV/xxSUpYshYQwfuGwbAa2tfCDjgXWMEvvaus4NQt4nv5yJqPcNOEqEZzKwaQtDE/Lybw7Q6zOe8qqAucfdSDfrSjJ/nHd220cMs5bYuUm7IA1OIReXbMAS3Qgp/tHWZpOpPUqVe9NTef1VgzHQT1qT8cjnr8i57pkujrPhLYuahGEJaicAQrJ5iReLS7KgdJtChPrNq2RioeaBxmp3dl9mz6yjTXuLLTHLmnFE/rGscQ2xuXbLtHumpGUtaGoLAVMWgomjIXNGCzmvXmEJqqj+VzSDlgEgXxcILGu9ij6DzAXuybnD2VpX5q+F4UgEIcznZff5ezGRlEPVkxd3rIhHMKnl80qaG5rwWvwgX1uOsk3ValYSi4qDCpPjCWIF34Z3iyvDI2m6+tc4jNUfEqsoNQ8stWDDumj0WoaawdVy9p6JVNKFFFXtgM4G7jgn6lW/3vlMRlbfdjoz8yG0bR2IKuyhak7vpHI3E2FVeTkXDvI41iL5mv8fDxPeriAPV6bOjUZV8+eAbdTWT6jgkR/meSdmLxZ4fCCfzRLHch1Ix/2cK80Hem2RyLZuUYSUM6PNj+vPlg0WG/MFVMUoN2cM7A3tsZImiA7spXs5nVXoY6jlxx1sYPkQlQc6weHDt0V2Icc52fs/myFmU2/e2GFBSg4rglkAiJCEG5b1YJaXqKDYaescHA1v0F3XBA4I1jhTLHT29wkw+V/0Jd5NnxDR7LylSTfUny1/wRXa7B5q4DyhR1B0xz76TEHv4QX4WBbkbEQ/3R/FFikA4ANwhHs8OjkWNaD9ZYiReSu08Vk+D6gvBqBP+WXL3gUF0wU7GRz5i0dbXlxgBbfvBWdsZ8B0NfKGvh6TwkSn1kjqKQ5HH8nSJEbd5pfVeTMHvRMZgw4tGl70ukWX84d1Gu7dXVI0UPRUmQXowYOz0Lu0KG5wGaXUwDui6cTGYQxk2EyxHt26FHOWZfr76kxOlnzuqHW1fKk1wx5hfR9MLQuKu0AfNWNabkNmPC/dKW0E7U+GPwxxEvBJYSyaHE+swm/GdObnsyMKvRZCaD9L96yi9wFhCX1He3139SSVvxUO6Qdxyee/5UCqpZzkDR0QFXABKiZEhqIgpLr6VvPaiOO4L62W6OsrdMo7kf3P1Jw1NbJ7a1rLQBzZHAf47gk7d0VYe0Mqn6zuVDm4g5ee98C5717bba9m4cO1310zVU5pxod8PlM2DfcgPTKfjyUrxIwB3cTZrFV2x0PG80a1hTJ4lz7yPQ6LXCvO1aWE4L96Gv8h1LGtjKvYjl1kMRNHUgm2OVLm0ePmFNBXe7jsNNve06aP3XNb07sJ8hu9jt+A9rf0dytBhHAqFnGpEurQyuOQXFYXM8J05a2eYHeoiWuPxbfOw3Kcx9jxZ/amTHkGzejv3wR0D/r0mqUFfYqTJvuDsCARb77ydmiXkfAM0m41b93aEu0+tXnh9KFEvNVUv9SVG6kkSrBm+nrzQuG3j1z38DDTLZOfcpN55lh1YPeTTQF9iREPLsvy2c0XPVH+6R5qXKRmQE3Bh2Od9K0E9XZjV0DjHwRNpZd7vh2aFJmcWCrkBXP+JdMmRGA+ZN7QcOrq6qQZkjD3mUPEt0CzRIq3O0pDrSPcGwljKWjB4dWkXGbPHPKRtlssRPZcdw8nxqvD3LdJAcyH97c6bIx+2Y7qX+g3QLNKid2qARdHSSiGT7jcNvI/Modksj0yT0fYlWoi4q5zr78lu8xekxyvPMb3sy6i+rPEnyz2zy5pezsffA80VTdfDCZK1pxAk8sdWXo34wqlqxHR6cdSLNREvzheg+bkTOS+QXFMEQi6vvcXmeymzoiKZ2Wu4RPXFCmazsLokxcvssZUcvUPFEYCki2TiuH8Be34bSSqX57/aC20hkzuHJf+zJL9poC7IAtRXpOUFaP7vUJYkc2oNLt9+fO8/Q1HvDe+c/G+Qbc4JzfuB/vP0nnPs/1l6y/u5/tE/+kdt+gfNd+kfNN+lfuAkeRau4WLFmXLJE3YJ4PI3/D1a+j8g8cA4fFsWSgAAAABJRU5ErkJggg==)"
   ]
  },
  {
   "cell_type": "markdown",
   "metadata": {},
   "source": [
    "Denseクラスを用いて「層」の形を定義します.  \n",
    "入力層だけはどんな形のデータが入ってくるかわからないのでinput_shapeを指定して上げる必要があります.  \n",
    "各層で活性化関数を用いることで非線形のモデルを考えられるようにしています."
   ]
  },
  {
   "cell_type": "markdown",
   "metadata": {},
   "source": [
    "lossは目的関数であり,最小化したいものを指定します.ここでは交差エントロピーを用いています.  \n",
    "式は$i$番目のクラスに属する確率を$p_i$,正解ラベル(そのクラスに属するなら1,それ以外は0)を$y_i$,クラス数をCとすると,  \n",
    "$H_i = -(y_ilog(p_i) + (1 - y_i)log(1 - p_i))$  \n",
    "${\\rm loss} = {\\sum_i^C} H_i$  \n",
    "となる."
   ]
  },
  {
   "cell_type": "code",
   "execution_count": null,
   "metadata": {
    "ExecuteTime": {
     "end_time": "2019-02-13T04:42:23.428942Z",
     "start_time": "2019-02-13T04:42:23.422612Z"
    }
   },
   "outputs": [],
   "source": [
    "def create_model():\n",
    "    model = Sequential()\n",
    "    model.add(Dense(512, activation='relu', input_shape=(784,)))\n",
    "    model.add(Dropout(0.2))\n",
    "    model.add(Dense(512, activation='relu'))\n",
    "    model.add(Dropout(0.2))\n",
    "    model.add(Dense(num_classes, activation='softmax'))\n",
    "    model.summary()\n",
    "    model.compile(loss='categorical_crossentropy',\n",
    "                 optimizer='rmsprop',\n",
    "                 metrics=['accuracy'])\n",
    "    return model"
   ]
  },
  {
   "cell_type": "code",
   "execution_count": null,
   "metadata": {
    "ExecuteTime": {
     "end_time": "2019-02-13T04:42:24.015621Z",
     "start_time": "2019-02-13T04:42:23.862503Z"
    }
   },
   "outputs": [],
   "source": [
    "model = create_model()"
   ]
  },
  {
   "cell_type": "markdown",
   "metadata": {},
   "source": [
    "`batch_size`はデータセットのデータを全部一気に扱うと,計算が大変かつ異常値の影響を受けやすくなるので,小さく分けて学習させます.1回の学習に何個のデータを用いるかをbatch_sizeで指定します.  \n",
    "`epochs`は何回学習を繰り返すかを指定します.  "
   ]
  },
  {
   "cell_type": "code",
   "execution_count": null,
   "metadata": {
    "ExecuteTime": {
     "end_time": "2019-02-13T05:31:28.447107Z",
     "start_time": "2019-02-13T05:31:28.312975Z"
    },
    "scrolled": true
   },
   "outputs": [],
   "source": [
    "history = model.fit(trn_x, trn_y,\n",
    "                   batch_size=128,\n",
    "                   epochs=20,\n",
    "                   verbose=1,\n",
    "                   validation_data=(val_x, val_y))\n",
    "\n",
    "score = model.evaluate(test_x, test_y, verbose=0)"
   ]
  },
  {
   "cell_type": "code",
   "execution_count": null,
   "metadata": {
    "ExecuteTime": {
     "end_time": "2019-02-13T05:19:39.634584Z",
     "start_time": "2019-02-13T05:19:39.629802Z"
    }
   },
   "outputs": [],
   "source": [
    "score[1]"
   ]
  },
  {
   "cell_type": "markdown",
   "metadata": {},
   "source": [
    "98%の正解率のモデル完成!"
   ]
  },
  {
   "cell_type": "code",
   "execution_count": null,
   "metadata": {},
   "outputs": [],
   "source": []
  }
 ],
 "metadata": {
  "kernelspec": {
   "display_name": "Python 3",
   "language": "python",
   "name": "python3"
  },
  "language_info": {
   "codemirror_mode": {
    "name": "ipython",
    "version": 3
   },
   "file_extension": ".py",
   "mimetype": "text/x-python",
   "name": "python",
   "nbconvert_exporter": "python",
   "pygments_lexer": "ipython3",
   "version": "3.6.7"
  },
  "toc": {
   "base_numbering": 1,
   "nav_menu": {},
   "number_sections": true,
   "sideBar": true,
   "skip_h1_title": false,
   "title_cell": "Table of Contents",
   "title_sidebar": "Contents",
   "toc_cell": false,
   "toc_position": {},
   "toc_section_display": true,
   "toc_window_display": false
  }
 },
 "nbformat": 4,
 "nbformat_minor": 2
}
